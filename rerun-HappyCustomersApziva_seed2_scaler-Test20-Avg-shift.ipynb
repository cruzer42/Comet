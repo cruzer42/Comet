{
 "cells": [
  {
   "cell_type": "markdown",
   "metadata": {},
   "source": [
    "Background:\n",
    "\n",
    "We are one of the fastest growing startups in the logistics and delivery domain. We work with several partners and make on-demand delivery to our customers. During the COVID-19 pandemic, we are facing several different challenges and everyday we are trying to address these challenges.\n",
    "\n",
    "We thrive on making our customers happy. As a growing startup, with a global expansion strategy we know that we need to make our customers happy and the only way to do that is to measure how happy each customer is. If we can predict what makes our customers happy or unhappy, we can then take necessary actions.\n",
    "\n",
    "Getting feedback from customers is not easy either, but we do our best to get constant feedback from our customers. This is a crucial function to improve our operations across all levels.\n",
    "\n",
    "We recently did a survey to a select customer cohort. You are presented with a subset of this data. We will be using the remaining data as a private test set.\n"
   ]
  },
  {
   "cell_type": "markdown",
   "metadata": {},
   "source": [
    "Data Description:\n",
    "Y = target attribute (Y) with values indicating 0 (unhappy) and 1 (happy) customers\n",
    "\n",
    "X1 = my order was delivered on time\n",
    "\n",
    "X2 = contents of my order was as I expected\n",
    "\n",
    "X3 = I ordered everything I wanted to order\n",
    "\n",
    "X4 = I paid a good price for my order\n",
    "\n",
    "X5 = I am satisfied with my courier\n",
    "\n",
    "X6 = the app makes ordering easy for me\n",
    "\n",
    "Attributes X1 to X6 indicate the responses for each question and have values from 1 to 5 where the smaller number indicates less and the higher number indicates more towards the answer."
   ]
  },
  {
   "cell_type": "markdown",
   "metadata": {},
   "source": [
    "Goal(s):\n",
    "\n",
    "Predict if a customer is happy or not based on the answers they give to questions asked.\n",
    "\n",
    "Success Metrics:\n",
    "\n",
    "Reach 73% accuracy score or above, or convince us why your solution is superior. We are definitely interested in every solution and insight you can provide us.\n",
    "\n",
    "Try to submit your working solution as soon as possible. The sooner the better.\n",
    "\n",
    "Bonus(es):\n",
    "\n",
    "We are very interested in finding which questions/features are more important when predicting a customer’s happiness. Using a feature selection approach show us understand what is the minimal set of attributes/features that would preserve the most information about the problem while increasing predictability of the data we have. Is there any question that we can remove in our next survey?\n",
    "\n"
   ]
  },
  {
   "cell_type": "markdown",
   "metadata": {},
   "source": [
    "## First set seed value, for reproducabilty\n",
    "### Question: What does comet not find the git repository and what would it do if found?: \n",
    "### Question: Is this not implemented correctly because result is not reproduced (see \"rerun\" notebook)"
   ]
  },
  {
   "cell_type": "code",
   "execution_count": 1,
   "metadata": {},
   "outputs": [],
   "source": [
    "import os\n",
    "\n",
    "os.environ[\"COMET_GIT_DIRECTORY\"]=\"https://github.com/cruzer42/Comet\""
   ]
  },
  {
   "cell_type": "code",
   "execution_count": 2,
   "metadata": {},
   "outputs": [],
   "source": [
    "# Only need to provide API key once..\n",
    "#import comet_ml\n",
    "#comet_ml.init()"
   ]
  },
  {
   "cell_type": "code",
   "execution_count": 3,
   "metadata": {},
   "outputs": [
    {
     "name": "stderr",
     "output_type": "stream",
     "text": [
      "COMET WARNING: As you are running in a Jupyter environment, you will need to call `experiment.end()` when finished to ensure all metrics and code are logged before exiting.\n",
      "COMET INFO: Couldn't find a Git repository in 'https://github.com/cruzer42/Comet' and lookings in parents. You can override where Comet is looking for a Git Patch by setting the configuration `COMET_GIT_DIRECTORY`\n",
      "COMET INFO: Experiment is live on comet.ml https://www.comet.ml/cruzer42/happycust/89abfd5977ea4c55807d7bae29c21bc7\n",
      "\n"
     ]
    }
   ],
   "source": [
    "# import comet_ml at the top of your file\n",
    "from comet_ml import Experiment\n",
    "\n",
    "# Create an experiment with your api key\n",
    "experiment = Experiment(\n",
    "#    api_key=\"\",\n",
    "    project_name=\"HappyCust\",\n",
    "    workspace=\"cruzer42\",\n",
    ")\n",
    "\n",
    "# Run your code and go to /"
   ]
  },
  {
   "cell_type": "code",
   "execution_count": 4,
   "metadata": {},
   "outputs": [],
   "source": [
    "# Pick a seed\n",
    "seed_value = 52"
   ]
  },
  {
   "cell_type": "code",
   "execution_count": 5,
   "metadata": {},
   "outputs": [],
   "source": [
    "import os\n",
    "os.environ['PYTHONHASHSEED']=str(seed_value)\n"
   ]
  },
  {
   "cell_type": "code",
   "execution_count": 6,
   "metadata": {},
   "outputs": [],
   "source": [
    "import random\n",
    "random.seed(seed_value)\n"
   ]
  },
  {
   "cell_type": "code",
   "execution_count": null,
   "metadata": {},
   "outputs": [],
   "source": []
  },
  {
   "cell_type": "code",
   "execution_count": null,
   "metadata": {},
   "outputs": [],
   "source": []
  },
  {
   "cell_type": "code",
   "execution_count": 7,
   "metadata": {},
   "outputs": [
    {
     "name": "stderr",
     "output_type": "stream",
     "text": [
      "In /opt/anaconda3/lib/python3.7/site-packages/matplotlib/mpl-data/stylelib/_classic_test.mplstyle: \n",
      "The text.latex.preview rcparam was deprecated in Matplotlib 3.3 and will be removed two minor releases later.\n",
      "In /opt/anaconda3/lib/python3.7/site-packages/matplotlib/mpl-data/stylelib/_classic_test.mplstyle: \n",
      "The mathtext.fallback_to_cm rcparam was deprecated in Matplotlib 3.3 and will be removed two minor releases later.\n",
      "In /opt/anaconda3/lib/python3.7/site-packages/matplotlib/mpl-data/stylelib/_classic_test.mplstyle: Support for setting the 'mathtext.fallback_to_cm' rcParam is deprecated since 3.3 and will be removed two minor releases later; use 'mathtext.fallback : 'cm' instead.\n",
      "In /opt/anaconda3/lib/python3.7/site-packages/matplotlib/mpl-data/stylelib/_classic_test.mplstyle: \n",
      "The validate_bool_maybe_none function was deprecated in Matplotlib 3.3 and will be removed two minor releases later.\n",
      "In /opt/anaconda3/lib/python3.7/site-packages/matplotlib/mpl-data/stylelib/_classic_test.mplstyle: \n",
      "The savefig.jpeg_quality rcparam was deprecated in Matplotlib 3.3 and will be removed two minor releases later.\n",
      "In /opt/anaconda3/lib/python3.7/site-packages/matplotlib/mpl-data/stylelib/_classic_test.mplstyle: \n",
      "The keymap.all_axes rcparam was deprecated in Matplotlib 3.3 and will be removed two minor releases later.\n",
      "In /opt/anaconda3/lib/python3.7/site-packages/matplotlib/mpl-data/stylelib/_classic_test.mplstyle: \n",
      "The animation.avconv_path rcparam was deprecated in Matplotlib 3.3 and will be removed two minor releases later.\n",
      "In /opt/anaconda3/lib/python3.7/site-packages/matplotlib/mpl-data/stylelib/_classic_test.mplstyle: \n",
      "The animation.avconv_args rcparam was deprecated in Matplotlib 3.3 and will be removed two minor releases later.\n"
     ]
    }
   ],
   "source": [
    "# import libraries\n",
    "import pandas as pd\n",
    "import numpy as np\n",
    "np.random.seed(seed_value)\n",
    "import matplotlib.pyplot as plt\n",
    "import seaborn as sns\n",
    "%matplotlib inline \n"
   ]
  },
  {
   "cell_type": "code",
   "execution_count": 8,
   "metadata": {},
   "outputs": [],
   "source": [
    "# Import scikit-learn tools, grid search cross validation, and classifiers\n",
    "\n",
    "from sklearn import metrics\n",
    "from sklearn.metrics import roc_curve\n",
    "from sklearn.metrics import classification_report\n",
    "\n",
    "from sklearn.model_selection import train_test_split, cross_val_score,RandomizedSearchCV,GridSearchCV\n",
    "# import Random Forest Classifier\n",
    "from sklearn.ensemble import RandomForestClassifier\n",
    "\n",
    "# import Logistic Regression CV Classifier\n",
    "from sklearn.linear_model import LogisticRegression\n",
    "\n",
    "from sklearn.metrics import f1_score, precision_score, recall_score, accuracy_score, confusion_matrix, roc_auc_score\n",
    "\n",
    "from sklearn.pipeline import Pipeline\n",
    "from sklearn.pipeline import make_pipeline\n",
    "from sklearn.preprocessing import StandardScaler"
   ]
  },
  {
   "cell_type": "code",
   "execution_count": 9,
   "metadata": {},
   "outputs": [],
   "source": [
    "#import xgboost as xgb\n",
    "from xgboost import XGBClassifier\n",
    "from lightgbm import LGBMClassifier\n",
    "from sklearn.linear_model import SGDClassifier\n",
    "from scipy.stats import randint as sp_randint\n",
    "from scipy.stats import uniform as sp_uniform\n",
    "from scipy.stats import randint, uniform\n",
    "import scipy.stats as stats\n",
    "from sklearn.utils.fixes import loguniform\n",
    "\n",
    "# import Recursive Feature Elimination (RFE)\n",
    "from sklearn.feature_selection import RFE\n",
    "\n",
    "# import stacking classifier\n",
    "from sklearn.ensemble import StackingClassifier\n",
    "\n",
    "from sklearn.neighbors import KNeighborsClassifier"
   ]
  },
  {
   "cell_type": "code",
   "execution_count": 10,
   "metadata": {},
   "outputs": [
    {
     "data": {
      "text/html": [
       "<div>\n",
       "<style scoped>\n",
       "    .dataframe tbody tr th:only-of-type {\n",
       "        vertical-align: middle;\n",
       "    }\n",
       "\n",
       "    .dataframe tbody tr th {\n",
       "        vertical-align: top;\n",
       "    }\n",
       "\n",
       "    .dataframe thead th {\n",
       "        text-align: right;\n",
       "    }\n",
       "</style>\n",
       "<table border=\"1\" class=\"dataframe\">\n",
       "  <thead>\n",
       "    <tr style=\"text-align: right;\">\n",
       "      <th></th>\n",
       "      <th>Y</th>\n",
       "      <th>X1</th>\n",
       "      <th>X2</th>\n",
       "      <th>X3</th>\n",
       "      <th>X4</th>\n",
       "      <th>X5</th>\n",
       "      <th>X6</th>\n",
       "    </tr>\n",
       "  </thead>\n",
       "  <tbody>\n",
       "    <tr>\n",
       "      <th>0</th>\n",
       "      <td>0</td>\n",
       "      <td>3</td>\n",
       "      <td>3</td>\n",
       "      <td>3</td>\n",
       "      <td>4</td>\n",
       "      <td>2</td>\n",
       "      <td>4</td>\n",
       "    </tr>\n",
       "    <tr>\n",
       "      <th>1</th>\n",
       "      <td>0</td>\n",
       "      <td>3</td>\n",
       "      <td>2</td>\n",
       "      <td>3</td>\n",
       "      <td>5</td>\n",
       "      <td>4</td>\n",
       "      <td>3</td>\n",
       "    </tr>\n",
       "    <tr>\n",
       "      <th>2</th>\n",
       "      <td>1</td>\n",
       "      <td>5</td>\n",
       "      <td>3</td>\n",
       "      <td>3</td>\n",
       "      <td>3</td>\n",
       "      <td>3</td>\n",
       "      <td>5</td>\n",
       "    </tr>\n",
       "    <tr>\n",
       "      <th>3</th>\n",
       "      <td>0</td>\n",
       "      <td>5</td>\n",
       "      <td>4</td>\n",
       "      <td>3</td>\n",
       "      <td>3</td>\n",
       "      <td>3</td>\n",
       "      <td>5</td>\n",
       "    </tr>\n",
       "    <tr>\n",
       "      <th>4</th>\n",
       "      <td>0</td>\n",
       "      <td>5</td>\n",
       "      <td>4</td>\n",
       "      <td>3</td>\n",
       "      <td>3</td>\n",
       "      <td>3</td>\n",
       "      <td>5</td>\n",
       "    </tr>\n",
       "  </tbody>\n",
       "</table>\n",
       "</div>"
      ],
      "text/plain": [
       "   Y  X1  X2  X3  X4  X5  X6\n",
       "0  0   3   3   3   4   2   4\n",
       "1  0   3   2   3   5   4   3\n",
       "2  1   5   3   3   3   3   5\n",
       "3  0   5   4   3   3   3   5\n",
       "4  0   5   4   3   3   3   5"
      ]
     },
     "execution_count": 10,
     "metadata": {},
     "output_type": "execute_result"
    }
   ],
   "source": [
    "# load the dataset\n",
    "customer_data = pd.read_csv('ACME-HappinessSurvey2020.csv')\n",
    "customer_data.head()"
   ]
  },
  {
   "cell_type": "code",
   "execution_count": 11,
   "metadata": {},
   "outputs": [
    {
     "name": "stdout",
     "output_type": "stream",
     "text": [
      "<class 'pandas.core.frame.DataFrame'>\n",
      "RangeIndex: 126 entries, 0 to 125\n",
      "Data columns (total 7 columns):\n",
      " #   Column  Non-Null Count  Dtype\n",
      "---  ------  --------------  -----\n",
      " 0   Y       126 non-null    int64\n",
      " 1   X1      126 non-null    int64\n",
      " 2   X2      126 non-null    int64\n",
      " 3   X3      126 non-null    int64\n",
      " 4   X4      126 non-null    int64\n",
      " 5   X5      126 non-null    int64\n",
      " 6   X6      126 non-null    int64\n",
      "dtypes: int64(7)\n",
      "memory usage: 7.0 KB\n"
     ]
    }
   ],
   "source": [
    "customer_data.info()"
   ]
  },
  {
   "cell_type": "markdown",
   "metadata": {},
   "source": [
    "## SHIFT the scale from 1-5 such that 3 becomes 0 at the center"
   ]
  },
  {
   "cell_type": "code",
   "execution_count": 12,
   "metadata": {},
   "outputs": [],
   "source": [
    "customer_data['X1'] = customer_data['X1'] - 3\n",
    "customer_data['X2'] = customer_data['X2'] - 3\n",
    "customer_data['X3'] = customer_data['X3'] - 3\n",
    "customer_data['X4'] = customer_data['X4'] - 3\n",
    "customer_data['X5'] = customer_data['X5'] - 3\n",
    "customer_data['X6'] = customer_data['X6'] - 3"
   ]
  },
  {
   "cell_type": "code",
   "execution_count": 13,
   "metadata": {},
   "outputs": [
    {
     "data": {
      "text/html": [
       "<div>\n",
       "<style scoped>\n",
       "    .dataframe tbody tr th:only-of-type {\n",
       "        vertical-align: middle;\n",
       "    }\n",
       "\n",
       "    .dataframe tbody tr th {\n",
       "        vertical-align: top;\n",
       "    }\n",
       "\n",
       "    .dataframe thead th {\n",
       "        text-align: right;\n",
       "    }\n",
       "</style>\n",
       "<table border=\"1\" class=\"dataframe\">\n",
       "  <thead>\n",
       "    <tr style=\"text-align: right;\">\n",
       "      <th></th>\n",
       "      <th>Happy</th>\n",
       "      <th>DeliveredOnTime</th>\n",
       "      <th>ContentsCorrect</th>\n",
       "      <th>I ordered everything</th>\n",
       "      <th>GoodPrice</th>\n",
       "      <th>CourierSatisfaction</th>\n",
       "      <th>AppEasyOrdering</th>\n",
       "      <th>AvgSurvey</th>\n",
       "    </tr>\n",
       "  </thead>\n",
       "  <tbody>\n",
       "    <tr>\n",
       "      <th>0</th>\n",
       "      <td>0</td>\n",
       "      <td>0</td>\n",
       "      <td>0</td>\n",
       "      <td>0</td>\n",
       "      <td>1</td>\n",
       "      <td>-1</td>\n",
       "      <td>1</td>\n",
       "      <td>0.166667</td>\n",
       "    </tr>\n",
       "    <tr>\n",
       "      <th>1</th>\n",
       "      <td>0</td>\n",
       "      <td>0</td>\n",
       "      <td>-1</td>\n",
       "      <td>0</td>\n",
       "      <td>2</td>\n",
       "      <td>1</td>\n",
       "      <td>0</td>\n",
       "      <td>0.333333</td>\n",
       "    </tr>\n",
       "    <tr>\n",
       "      <th>2</th>\n",
       "      <td>1</td>\n",
       "      <td>2</td>\n",
       "      <td>0</td>\n",
       "      <td>0</td>\n",
       "      <td>0</td>\n",
       "      <td>0</td>\n",
       "      <td>2</td>\n",
       "      <td>0.666667</td>\n",
       "    </tr>\n",
       "    <tr>\n",
       "      <th>3</th>\n",
       "      <td>0</td>\n",
       "      <td>2</td>\n",
       "      <td>1</td>\n",
       "      <td>0</td>\n",
       "      <td>0</td>\n",
       "      <td>0</td>\n",
       "      <td>2</td>\n",
       "      <td>0.833333</td>\n",
       "    </tr>\n",
       "    <tr>\n",
       "      <th>4</th>\n",
       "      <td>0</td>\n",
       "      <td>2</td>\n",
       "      <td>1</td>\n",
       "      <td>0</td>\n",
       "      <td>0</td>\n",
       "      <td>0</td>\n",
       "      <td>2</td>\n",
       "      <td>0.833333</td>\n",
       "    </tr>\n",
       "  </tbody>\n",
       "</table>\n",
       "</div>"
      ],
      "text/plain": [
       "   Happy  DeliveredOnTime  ContentsCorrect  I ordered everything  GoodPrice  \\\n",
       "0      0                0                0                     0          1   \n",
       "1      0                0               -1                     0          2   \n",
       "2      1                2                0                     0          0   \n",
       "3      0                2                1                     0          0   \n",
       "4      0                2                1                     0          0   \n",
       "\n",
       "   CourierSatisfaction  AppEasyOrdering  AvgSurvey  \n",
       "0                   -1                1   0.166667  \n",
       "1                    1                0   0.333333  \n",
       "2                    0                2   0.666667  \n",
       "3                    0                2   0.833333  \n",
       "4                    0                2   0.833333  "
      ]
     },
     "execution_count": 13,
     "metadata": {},
     "output_type": "execute_result"
    }
   ],
   "source": [
    "# rename the columns\n",
    "customer_data = customer_data.rename(columns = {'Y': 'Happy', 'X1':'DeliveredOnTime', 'X2':'ContentsCorrect', 'X3':'I ordered everything', 'X4': 'GoodPrice', 'X5':'CourierSatisfaction', 'X6': 'AppEasyOrdering'})\n",
    "#ADDING A NEW FEATURE 'AVG' below\n",
    "column_list = ['DeliveredOnTime', 'ContentsCorrect', 'I ordered everything', 'GoodPrice', 'CourierSatisfaction', 'AppEasyOrdering']\n",
    "customer_data['AvgSurvey'] = customer_data[column_list].mean(axis=1)\n",
    "##ADDING A NEW FEATURE 'AVG' above\n",
    "customer_data.head()"
   ]
  },
  {
   "cell_type": "code",
   "execution_count": 14,
   "metadata": {},
   "outputs": [
    {
     "data": {
      "text/html": [
       "<div>\n",
       "<style scoped>\n",
       "    .dataframe tbody tr th:only-of-type {\n",
       "        vertical-align: middle;\n",
       "    }\n",
       "\n",
       "    .dataframe tbody tr th {\n",
       "        vertical-align: top;\n",
       "    }\n",
       "\n",
       "    .dataframe thead th {\n",
       "        text-align: right;\n",
       "    }\n",
       "</style>\n",
       "<table border=\"1\" class=\"dataframe\">\n",
       "  <thead>\n",
       "    <tr style=\"text-align: right;\">\n",
       "      <th></th>\n",
       "      <th>Happy</th>\n",
       "      <th>DeliveredOnTime</th>\n",
       "      <th>ContentsCorrect</th>\n",
       "      <th>I ordered everything</th>\n",
       "      <th>GoodPrice</th>\n",
       "      <th>CourierSatisfaction</th>\n",
       "      <th>AppEasyOrdering</th>\n",
       "      <th>AvgSurvey</th>\n",
       "    </tr>\n",
       "  </thead>\n",
       "  <tbody>\n",
       "    <tr>\n",
       "      <th>count</th>\n",
       "      <td>126.000000</td>\n",
       "      <td>126.000000</td>\n",
       "      <td>126.000000</td>\n",
       "      <td>126.000000</td>\n",
       "      <td>126.000000</td>\n",
       "      <td>126.000000</td>\n",
       "      <td>126.000000</td>\n",
       "      <td>126.000000</td>\n",
       "    </tr>\n",
       "    <tr>\n",
       "      <th>mean</th>\n",
       "      <td>0.547619</td>\n",
       "      <td>1.333333</td>\n",
       "      <td>-0.468254</td>\n",
       "      <td>0.309524</td>\n",
       "      <td>0.746032</td>\n",
       "      <td>0.650794</td>\n",
       "      <td>1.253968</td>\n",
       "      <td>0.637566</td>\n",
       "    </tr>\n",
       "    <tr>\n",
       "      <th>std</th>\n",
       "      <td>0.499714</td>\n",
       "      <td>0.800000</td>\n",
       "      <td>1.114892</td>\n",
       "      <td>1.023440</td>\n",
       "      <td>0.875776</td>\n",
       "      <td>1.147641</td>\n",
       "      <td>0.809311</td>\n",
       "      <td>0.566109</td>\n",
       "    </tr>\n",
       "    <tr>\n",
       "      <th>min</th>\n",
       "      <td>0.000000</td>\n",
       "      <td>-2.000000</td>\n",
       "      <td>-2.000000</td>\n",
       "      <td>-2.000000</td>\n",
       "      <td>-2.000000</td>\n",
       "      <td>-2.000000</td>\n",
       "      <td>-2.000000</td>\n",
       "      <td>-1.166667</td>\n",
       "    </tr>\n",
       "    <tr>\n",
       "      <th>25%</th>\n",
       "      <td>0.000000</td>\n",
       "      <td>1.000000</td>\n",
       "      <td>-1.000000</td>\n",
       "      <td>0.000000</td>\n",
       "      <td>0.000000</td>\n",
       "      <td>0.000000</td>\n",
       "      <td>1.000000</td>\n",
       "      <td>0.333333</td>\n",
       "    </tr>\n",
       "    <tr>\n",
       "      <th>50%</th>\n",
       "      <td>1.000000</td>\n",
       "      <td>2.000000</td>\n",
       "      <td>0.000000</td>\n",
       "      <td>0.000000</td>\n",
       "      <td>1.000000</td>\n",
       "      <td>1.000000</td>\n",
       "      <td>1.000000</td>\n",
       "      <td>0.666667</td>\n",
       "    </tr>\n",
       "    <tr>\n",
       "      <th>75%</th>\n",
       "      <td>1.000000</td>\n",
       "      <td>2.000000</td>\n",
       "      <td>0.000000</td>\n",
       "      <td>1.000000</td>\n",
       "      <td>1.000000</td>\n",
       "      <td>1.000000</td>\n",
       "      <td>2.000000</td>\n",
       "      <td>1.000000</td>\n",
       "    </tr>\n",
       "    <tr>\n",
       "      <th>max</th>\n",
       "      <td>1.000000</td>\n",
       "      <td>2.000000</td>\n",
       "      <td>2.000000</td>\n",
       "      <td>2.000000</td>\n",
       "      <td>2.000000</td>\n",
       "      <td>2.000000</td>\n",
       "      <td>2.000000</td>\n",
       "      <td>2.000000</td>\n",
       "    </tr>\n",
       "  </tbody>\n",
       "</table>\n",
       "</div>"
      ],
      "text/plain": [
       "            Happy  DeliveredOnTime  ContentsCorrect  I ordered everything  \\\n",
       "count  126.000000       126.000000       126.000000            126.000000   \n",
       "mean     0.547619         1.333333        -0.468254              0.309524   \n",
       "std      0.499714         0.800000         1.114892              1.023440   \n",
       "min      0.000000        -2.000000        -2.000000             -2.000000   \n",
       "25%      0.000000         1.000000        -1.000000              0.000000   \n",
       "50%      1.000000         2.000000         0.000000              0.000000   \n",
       "75%      1.000000         2.000000         0.000000              1.000000   \n",
       "max      1.000000         2.000000         2.000000              2.000000   \n",
       "\n",
       "        GoodPrice  CourierSatisfaction  AppEasyOrdering   AvgSurvey  \n",
       "count  126.000000           126.000000       126.000000  126.000000  \n",
       "mean     0.746032             0.650794         1.253968    0.637566  \n",
       "std      0.875776             1.147641         0.809311    0.566109  \n",
       "min     -2.000000            -2.000000        -2.000000   -1.166667  \n",
       "25%      0.000000             0.000000         1.000000    0.333333  \n",
       "50%      1.000000             1.000000         1.000000    0.666667  \n",
       "75%      1.000000             1.000000         2.000000    1.000000  \n",
       "max      2.000000             2.000000         2.000000    2.000000  "
      ]
     },
     "execution_count": 14,
     "metadata": {},
     "output_type": "execute_result"
    }
   ],
   "source": [
    "customer_data.describe()"
   ]
  },
  {
   "cell_type": "code",
   "execution_count": 15,
   "metadata": {},
   "outputs": [
    {
     "data": {
      "text/plain": [
       "16"
      ]
     },
     "execution_count": 15,
     "metadata": {},
     "output_type": "execute_result"
    }
   ],
   "source": [
    "# checking for duplicate data\n",
    "customer_data.duplicated().sum()"
   ]
  },
  {
   "cell_type": "code",
   "execution_count": 16,
   "metadata": {},
   "outputs": [
    {
     "data": {
      "image/png": "[encoded data removed]",
      "text/plain": [
       "<Figure size 864x720 with 2 Axes>"
      ]
     },
     "metadata": {
      "needs_background": "light"
     },
     "output_type": "display_data"
    }
   ],
   "source": [
    "# Using Pearson Correlation\n",
    "plt.figure(figsize=(12,10))\n",
    "cor = customer_data.corr()\n",
    "sns.heatmap(cor, annot=True, cmap=\"coolwarm\")\n",
    "plt.show()"
   ]
  },
  {
   "cell_type": "code",
   "execution_count": 17,
   "metadata": {},
   "outputs": [
    {
     "data": {
      "text/plain": [
       "Happy                   1.000000\n",
       "DeliveredOnTime         0.280160\n",
       "ContentsCorrect        -0.024274\n",
       "I ordered everything    0.150838\n",
       "GoodPrice               0.064415\n",
       "CourierSatisfaction     0.224522\n",
       "AppEasyOrdering         0.167669\n",
       "AvgSurvey               0.235885\n",
       "Name: Happy, dtype: float64"
      ]
     },
     "execution_count": 17,
     "metadata": {},
     "output_type": "execute_result"
    }
   ],
   "source": [
    "# Correlation with output variable\n",
    "cor_target = cor[\"Happy\"]\n",
    "# Selecting highly positively correlated features\n",
    "cor_target"
   ]
  },
  {
   "cell_type": "code",
   "execution_count": 18,
   "metadata": {},
   "outputs": [
    {
     "data": {
      "text/plain": [
       "Happy                   0.224522\n",
       "DeliveredOnTime         0.432772\n",
       "ContentsCorrect         0.039996\n",
       "I ordered everything    0.358397\n",
       "GoodPrice               0.293115\n",
       "CourierSatisfaction     1.000000\n",
       "AppEasyOrdering         0.320195\n",
       "AvgSurvey               0.712786\n",
       "Name: CourierSatisfaction, dtype: float64"
      ]
     },
     "execution_count": 18,
     "metadata": {},
     "output_type": "execute_result"
    }
   ],
   "source": [
    "# Correlation with output variable\n",
    "cor_Courier = cor[\"CourierSatisfaction\"]\n",
    "# Selecting highly positively correlated features\n",
    "cor_Courier"
   ]
  },
  {
   "cell_type": "markdown",
   "metadata": {},
   "source": [
    "## Exploratory Data Analysis led to shifting the data to be centered around 0 instead of 3. In additon to plotting the feature response frequencies, the SUM of all features seems to reveal an inflection point. In order to include it as an additonal feature, we can scale it by using the Average instead of the Sum."
   ]
  },
  {
   "cell_type": "code",
   "execution_count": 19,
   "metadata": {},
   "outputs": [
    {
     "data": {
      "image/png": "[encoded data removed]",
      "text/plain": [
       "<Figure size 1152x864 with 6 Axes>"
      ]
     },
     "metadata": {
      "needs_background": "light"
     },
     "output_type": "display_data"
    }
   ],
   "source": [
    "# Create a function for distribution plot\n",
    "def count_plot(column_name, dataset, x=0, y=0):\n",
    "    ax = sns.countplot(x=column_name, data= dataset, ax = axes[x, y])\n",
    "    for p in ax.patches:\n",
    "        height = p.get_height()\n",
    "        ax.text(p.get_x()+p.get_width()/2.,\n",
    "            height + 3,\n",
    "            '{:1.2f}'.format(height/float(len(dataset))),\n",
    "            ha=\"center\")\n",
    "        ax.set_box_aspect(3/len(ax.patches))\n",
    "        \n",
    "# Distribution of other variables\n",
    "fig, axes =plt.subplots(2,3, figsize=(16, 12))\n",
    "count_plot('DeliveredOnTime', customer_data, x = 0, y= 0)\n",
    "count_plot('ContentsCorrect', customer_data, x = 0, y= 1)\n",
    "count_plot('I ordered everything', customer_data, x = 0, y= 2)\n",
    "count_plot('GoodPrice', customer_data, x = 1, y= 0)\n",
    "count_plot('CourierSatisfaction', customer_data, x = 1, y= 1)\n",
    "count_plot('AppEasyOrdering', customer_data, x = 1, y= 2)"
   ]
  },
  {
   "cell_type": "code",
   "execution_count": 20,
   "metadata": {},
   "outputs": [
    {
     "data": {
      "image/png": "[encoded data removed]",
      "text/plain": [
       "<Figure size 432x288 with 1 Axes>"
      ]
     },
     "metadata": {
      "needs_background": "light"
     },
     "output_type": "display_data"
    }
   ],
   "source": [
    "ax = sns.countplot(x=\"AvgSurvey\", data=customer_data)"
   ]
  },
  {
   "cell_type": "markdown",
   "metadata": {},
   "source": [
    "## Set the train, test, split test size (after experimenting with different test size values). Also use the seed value as defined in order to set it globally. "
   ]
  },
  {
   "cell_type": "code",
   "execution_count": 21,
   "metadata": {},
   "outputs": [],
   "source": [
    "#set predictor variables and target variables\n",
    "X = customer_data.drop(columns= ['Happy'])\n",
    "y = customer_data.Happy"
   ]
  },
  {
   "cell_type": "code",
   "execution_count": 22,
   "metadata": {},
   "outputs": [
    {
     "name": "stdout",
     "output_type": "stream",
     "text": [
      "X Training set sample size: 100\n",
      "X Testing set sample size: 26\n",
      "y Training set sample size: 100\n",
      "y Testing set sample size: 26\n"
     ]
    }
   ],
   "source": [
    "# split the data into training and test sets\n",
    "X_train, X_test, y_train, y_test = train_test_split(X, y, random_state=seed_value, test_size=0.2)\n",
    "\n",
    "# Show the results of the split\n",
    "print(\"X Training set sample size:\", (X_train.shape[0]))\n",
    "print(\"X Testing set sample size:\", (X_test.shape[0]))\n",
    "print(\"y Training set sample size:\", (y_train.shape[0]))\n",
    "print(\"y Testing set sample size:\", (y_test.shape[0]))"
   ]
  },
  {
   "cell_type": "code",
   "execution_count": 23,
   "metadata": {},
   "outputs": [],
   "source": [
    "def evaluate(model, X_train, X_test, y_train, y_test):\n",
    "    y_test_pred = model.predict(X_test)\n",
    "    y_train_pred = model.predict(X_train)\n",
    "    y_test_pred_proba = model.predict_proba(X_test)[:,1]\n",
    "    \n",
    "    f1 = f1_score(y_test, y_test_pred)\n",
    "    cm = confusion_matrix(y_test, y_test_pred)\n",
    "    roc= roc_auc_score(y_test, y_test_pred_proba)\n",
    "\n",
    "    print(\"TRAINIG RESULTS: \\n===============================\")\n",
    "    print(f\"RECALL SCORE:{recall_score(y_train, y_train_pred):.4f}\")\n",
    "    print(f\"ACCURACY SCORE:{accuracy_score(y_train, y_train_pred):.4f}\")\n",
    "    print(f\"CONFUSION MATRIX:\\n{confusion_matrix(y_train, y_train_pred)}\")\n",
    "    clf_report = pd.DataFrame(classification_report(y_train, y_train_pred, output_dict=True))\n",
    "    print(f\"CLASSIFICATION REPORT:\\n{clf_report}\")\n",
    "    print()\n",
    "    print()\n",
    "\n",
    "    print(\"TESTING RESULTS: \\n===============================\")\n",
    "    print(f\"RECALL SCORE:{recall_score(y_test, y_test_pred):.4f}\")\n",
    "    print(f\"ACCURACY SCORE:{accuracy_score(y_test, y_test_pred):.4f}\")\n",
    "    print(f\"CONFUSION MATRIX:\\n{confusion_matrix(y_test, y_test_pred)}\")\n",
    "    \n",
    "    print('F1-score: ' , round(f1,4))\n",
    "#    print(\"Best Score: \" , round(model.best_score_,4))\n",
    "    print(\"Test ROC AUC:\", round(roc,4), '\\n')\n",
    "#    print(\"Best Parameters: \" , model.best_params_)\n",
    "    clf_report = pd.DataFrame(classification_report(y_test, y_test_pred, output_dict=True))\n",
    "    print(f\"CLASSIFICATION REPORT:\\n{clf_report}\")\n",
    "    \n",
    "    \n",
    "    fpr, tpr, thresholds = roc_curve(y_test, y_test_pred_proba)\n",
    "    plt.plot([0, 1], [0, 1], 'k--')\n",
    "    plt.plot(fpr,tpr,label= 'f\"{model}\" ')\n",
    "    plt.xlabel('False Positive Rate')\n",
    "    plt.ylabel('True Positive Rate')\n",
    "    plt.title('ROC Curve')\n",
    "    plt.show()"
   ]
  },
  {
   "cell_type": "code",
   "execution_count": 24,
   "metadata": {},
   "outputs": [
    {
     "name": "stdout",
     "output_type": "stream",
     "text": [
      "CPU times: user 206 ms, sys: 9.39 ms, total: 216 ms\n",
      "Wall time: 233 ms\n"
     ]
    },
    {
     "data": {
      "text/plain": [
       "RandomForestClassifier(bootstrap=True, ccp_alpha=0.0, class_weight=None,\n",
       "                       criterion='gini', max_depth=None, max_features='auto',\n",
       "                       max_leaf_nodes=None, max_samples=None,\n",
       "                       min_impurity_decrease=0.0, min_impurity_split=None,\n",
       "                       min_samples_leaf=1, min_samples_split=2,\n",
       "                       min_weight_fraction_leaf=0.0, n_estimators=100,\n",
       "                       n_jobs=None, oob_score=False, random_state=None,\n",
       "                       verbose=0, warm_start=False)"
      ]
     },
     "execution_count": 24,
     "metadata": {},
     "output_type": "execute_result"
    }
   ],
   "source": [
    "%%time\n",
    "#Run Random Forest Classifier with default settings, before scaling and tuning \n",
    "rc = RandomForestClassifier()\n",
    "\n",
    "rc.fit(X_train, y_train)\n",
    "\n",
    "rc_predict = rc.predict(X_test)\n",
    "\n",
    "#print (confusion_matrix(y_test , rc_predict))\n",
    "#print (\"Accuracy score: \", accuracy_score(y_test , rc_predict))\n",
    "#print(\"F1 score: \", f1_score(y_test , rc_predict))\n",
    "#print(\"Precision score: \" , precision_score(y_test , rc_predict))\n",
    "#print(\"Recall score: \" , recall_score(y_test , rc_predict))\n",
    "#print (classification_report(y_test , rc_predict))\n",
    "rc"
   ]
  },
  {
   "cell_type": "markdown",
   "metadata": {},
   "source": [
    "### This is the default RandomForest model with no standard scaling, but manually shifted to be centered around zero. Not only does it makes sense, but it improves both test and train scores.\n",
    "\n",
    "#### Also no feature selection yet, but includes new feature \"Average\". This is a high scoring result, even better than some initial tweaking. \n"
   ]
  },
  {
   "cell_type": "code",
   "execution_count": 25,
   "metadata": {},
   "outputs": [
    {
     "name": "stdout",
     "output_type": "stream",
     "text": [
      "TRAINIG RESULTS: \n",
      "===============================\n",
      "RECALL SCORE:0.9649\n",
      "ACCURACY SCORE:0.9400\n",
      "CONFUSION MATRIX:\n",
      "[[39  4]\n",
      " [ 2 55]]\n",
      "CLASSIFICATION REPORT:\n",
      "                   0          1  accuracy   macro avg  weighted avg\n",
      "precision   0.951220   0.932203      0.94    0.941711      0.940380\n",
      "recall      0.906977   0.964912      0.94    0.935945      0.940000\n",
      "f1-score    0.928571   0.948276      0.94    0.938424      0.939803\n",
      "support    43.000000  57.000000      0.94  100.000000    100.000000\n",
      "\n",
      "\n",
      "TESTING RESULTS: \n",
      "===============================\n",
      "RECALL SCORE:0.6667\n",
      "ACCURACY SCORE:0.5385\n",
      "CONFUSION MATRIX:\n",
      "[[6 8]\n",
      " [4 8]]\n",
      "F1-score:  0.5714\n",
      "Test ROC AUC: 0.5893 \n",
      "\n",
      "CLASSIFICATION REPORT:\n",
      "                   0          1  accuracy  macro avg  weighted avg\n",
      "precision   0.600000   0.500000  0.538462   0.550000      0.553846\n",
      "recall      0.428571   0.666667  0.538462   0.547619      0.538462\n",
      "f1-score    0.500000   0.571429  0.538462   0.535714      0.532967\n",
      "support    14.000000  12.000000  0.538462  26.000000     26.000000\n"
     ]
    },
    {
     "data": {
      "image/png": "[encoded data removed]",
      "text/plain": [
       "<Figure size 432x288 with 1 Axes>"
      ]
     },
     "metadata": {
      "needs_background": "light"
     },
     "output_type": "display_data"
    }
   ],
   "source": [
    "evaluate(rc, X_train, X_test, y_train, y_test)"
   ]
  },
  {
   "cell_type": "code",
   "execution_count": 26,
   "metadata": {},
   "outputs": [
    {
     "name": "stdout",
     "output_type": "stream",
     "text": [
      "CPU times: user 7.82 ms, sys: 450 µs, total: 8.27 ms\n",
      "Wall time: 8.5 ms\n"
     ]
    },
    {
     "data": {
      "text/plain": [
       "LogisticRegression(C=1.0, class_weight=None, dual=False, fit_intercept=True,\n",
       "                   intercept_scaling=1, l1_ratio=None, max_iter=100,\n",
       "                   multi_class='auto', n_jobs=None, penalty='l2',\n",
       "                   random_state=None, solver='lbfgs', tol=0.0001, verbose=0,\n",
       "                   warm_start=False)"
      ]
     },
     "execution_count": 26,
     "metadata": {},
     "output_type": "execute_result"
    }
   ],
   "source": [
    "%%time\n",
    "#lr = LogisticRegression(solver='lbfgs', max_iter=1000)\n",
    "lr = LogisticRegression()\n",
    "\n",
    "lr.fit(X_train, y_train)\n",
    "\n",
    "lr_predict = lr.predict(X_test)\n",
    "\n",
    "#print (confusion_matrix(y_test , lr_predict))\n",
    "#print (\"Accuracy score: \", accuracy_score(y_test , lr_predict))\n",
    "#print(\"F1 score: \", f1_score(y_test , lr_predict))\n",
    "#print(\"Precision score: \" , precision_score(y_test , lr_predict))\n",
    "#print(\"Recall score: \" , recall_score(y_test , lr_predict))\n",
    "#print (classification_report(y_test , lr_predict))\n",
    "lr"
   ]
  },
  {
   "cell_type": "code",
   "execution_count": 27,
   "metadata": {},
   "outputs": [
    {
     "name": "stdout",
     "output_type": "stream",
     "text": [
      "TRAINIG RESULTS: \n",
      "===============================\n",
      "RECALL SCORE:0.7719\n",
      "ACCURACY SCORE:0.6900\n",
      "CONFUSION MATRIX:\n",
      "[[25 18]\n",
      " [13 44]]\n",
      "CLASSIFICATION REPORT:\n",
      "                   0          1  accuracy   macro avg  weighted avg\n",
      "precision   0.657895   0.709677      0.69    0.683786      0.687411\n",
      "recall      0.581395   0.771930      0.69    0.676663      0.690000\n",
      "f1-score    0.617284   0.739496      0.69    0.678390      0.686945\n",
      "support    43.000000  57.000000      0.69  100.000000    100.000000\n",
      "\n",
      "\n",
      "TESTING RESULTS: \n",
      "===============================\n",
      "RECALL SCORE:0.5000\n",
      "ACCURACY SCORE:0.3462\n",
      "CONFUSION MATRIX:\n",
      "[[ 3 11]\n",
      " [ 6  6]]\n",
      "F1-score:  0.4138\n",
      "Test ROC AUC: 0.3631 \n",
      "\n",
      "CLASSIFICATION REPORT:\n",
      "                   0          1  accuracy  macro avg  weighted avg\n",
      "precision   0.333333   0.352941  0.346154   0.343137      0.342383\n",
      "recall      0.214286   0.500000  0.346154   0.357143      0.346154\n",
      "f1-score    0.260870   0.413793  0.346154   0.337331      0.331450\n",
      "support    14.000000  12.000000  0.346154  26.000000     26.000000\n"
     ]
    },
    {
     "data": {
      "image/png": "[encoded data removed]",
      "text/plain": [
       "<Figure size 432x288 with 1 Axes>"
      ]
     },
     "metadata": {
      "needs_background": "light"
     },
     "output_type": "display_data"
    }
   ],
   "source": [
    "evaluate(lr, X_train, X_test, y_train, y_test)"
   ]
  },
  {
   "cell_type": "code",
   "execution_count": 28,
   "metadata": {},
   "outputs": [
    {
     "name": "stderr",
     "output_type": "stream",
     "text": [
      "COMET ERROR: Failed to extract parameters from estimator\n"
     ]
    },
    {
     "name": "stdout",
     "output_type": "stream",
     "text": [
      "Fitting 5 folds for each of 1 candidates, totalling 5 fits\n"
     ]
    },
    {
     "name": "stderr",
     "output_type": "stream",
     "text": [
      "[Parallel(n_jobs=-1)]: Using backend LokyBackend with 4 concurrent workers.\n",
      "[Parallel(n_jobs=-1)]: Done   5 out of   5 | elapsed:    5.3s finished\n",
      "COMET ERROR: Failed to extract parameters from estimator\n",
      "COMET ERROR: Failed to extract parameters from estimator\n"
     ]
    },
    {
     "name": "stdout",
     "output_type": "stream",
     "text": [
      "Tuned Logistic Regression Parameter: {'rfc__class_weight': None, 'rfc__criterion': 'gini', 'rfc__max_depth': None}\n",
      "Tuned Logistic Regression Accuracy: 0.5700000000000001\n",
      "CPU times: user 345 ms, sys: 119 ms, total: 464 ms\n",
      "Wall time: 5.59 s\n"
     ]
    },
    {
     "data": {
      "text/plain": [
       "GridSearchCV(cv=5, error_score=nan,\n",
       "             estimator=Pipeline(memory=None,\n",
       "                                steps=[('rfc',\n",
       "                                        RandomForestClassifier(bootstrap=True,\n",
       "                                                               ccp_alpha=0.0,\n",
       "                                                               class_weight=None,\n",
       "                                                               criterion='gini',\n",
       "                                                               max_depth=None,\n",
       "                                                               max_features='auto',\n",
       "                                                               max_leaf_nodes=None,\n",
       "                                                               max_samples=None,\n",
       "                                                               min_impurity_decrease=0.0,\n",
       "                                                               min_impurity_split=None,\n",
       "                                                               min_samples_leaf=1,\n",
       "                                                               min_samples_split=2,\n",
       "                                                               min_weight_fraction_leaf=0.0,\n",
       "                                                               n_estimators=100,\n",
       "                                                               n_jobs=None,\n",
       "                                                               oob_score=False,\n",
       "                                                               random_state=None,\n",
       "                                                               verbose=0,\n",
       "                                                               warm_start=False))],\n",
       "                                verbose=False),\n",
       "             iid='deprecated', n_jobs=-1,\n",
       "             param_grid={'rfc__class_weight': [None],\n",
       "                         'rfc__criterion': ['gini'], 'rfc__max_depth': [None]},\n",
       "             pre_dispatch='2*n_jobs', refit=True, return_train_score=False,\n",
       "             scoring=None, verbose=True)"
      ]
     },
     "execution_count": 28,
     "metadata": {},
     "output_type": "execute_result"
    }
   ],
   "source": [
    "%%time\n",
    "# RUN THE PIPELINE WITH DEFAULT PARAMETERS BEFORE USING STANDARD SCALER\n",
    "# Setup the pipeline\n",
    "steps = [\n",
    "         ('rfc', RandomForestClassifier(n_estimators=100))\n",
    "         ]\n",
    "\n",
    "#steps = [('scaler', StandardScaler()),\n",
    "#         ('rfc', RandomForestClassifier(n_estimators=10))\n",
    "#         ]\n",
    "\n",
    "pipeline = Pipeline(steps)\n",
    "\n",
    "# Create the hyperparameter grid\n",
    "#c_space = np.logspace(-5, 8, 15)\n",
    "param_grid = {'rfc__max_depth': [None],\n",
    "                'rfc__class_weight': [None],\n",
    "                 'rfc__criterion' : ['gini']}\n",
    "\n",
    "\n",
    "# Instantiate the GridSearchCV object: logreg_cv\n",
    "rfc = GridSearchCV(pipeline, param_grid, cv=5, verbose=True, n_jobs=-1)\n",
    "\n",
    "# Fit it to the training data\n",
    "rfc.fit(X_train, y_train)\n",
    "\n",
    "rfc_predict = rfc.predict(X_test)\n",
    "\n",
    "# Print the optimal parameters and best score\n",
    "print(\"Tuned Logistic Regression Parameter: {}\".format(rfc.best_params_))\n",
    "print(\"Tuned Logistic Regression Accuracy: {}\".format(rfc.best_score_))\n",
    "\n",
    "\n",
    "# Compute and print metrics\n",
    "#print (confusion_matrix(y_test , rfc_predict))\n",
    "#print (\"Accuracy score: \", accuracy_score(y_test , rfc_predict))\n",
    "#print(\"F1 score: \", f1_score(y_test , rfc_predict))\n",
    "#print(\"Precision score: \" , precision_score(y_test , rfc_predict))\n",
    "#print(\"Recall score: \" , recall_score(y_test , rfc_predict))\n",
    "#print (classification_report(y_test , rfc_predict))\n",
    "rfc"
   ]
  },
  {
   "cell_type": "markdown",
   "metadata": {},
   "source": [
    "### Check the pipleline results using default parameters to baseline. Check this more carefully later for an explanation. A difference was observed for using the pipleline with same parameters in scenarios, with and with Avg and shifting."
   ]
  },
  {
   "cell_type": "code",
   "execution_count": 29,
   "metadata": {},
   "outputs": [
    {
     "name": "stdout",
     "output_type": "stream",
     "text": [
      "TRAINIG RESULTS: \n",
      "===============================\n",
      "RECALL SCORE:0.9649\n",
      "ACCURACY SCORE:0.9400\n",
      "CONFUSION MATRIX:\n",
      "[[39  4]\n",
      " [ 2 55]]\n",
      "CLASSIFICATION REPORT:\n",
      "                   0          1  accuracy   macro avg  weighted avg\n",
      "precision   0.951220   0.932203      0.94    0.941711      0.940380\n",
      "recall      0.906977   0.964912      0.94    0.935945      0.940000\n",
      "f1-score    0.928571   0.948276      0.94    0.938424      0.939803\n",
      "support    43.000000  57.000000      0.94  100.000000    100.000000\n",
      "\n",
      "\n",
      "TESTING RESULTS: \n",
      "===============================\n",
      "RECALL SCORE:0.6667\n",
      "ACCURACY SCORE:0.5769\n",
      "CONFUSION MATRIX:\n",
      "[[7 7]\n",
      " [4 8]]\n",
      "F1-score:  0.5926\n",
      "Test ROC AUC: 0.5774 \n",
      "\n",
      "CLASSIFICATION REPORT:\n",
      "                   0          1  accuracy  macro avg  weighted avg\n",
      "precision   0.636364   0.533333  0.576923   0.584848      0.588811\n",
      "recall      0.500000   0.666667  0.576923   0.583333      0.576923\n",
      "f1-score    0.560000   0.592593  0.576923   0.576296      0.575043\n",
      "support    14.000000  12.000000  0.576923  26.000000     26.000000\n"
     ]
    },
    {
     "data": {
      "image/png": "[encoded data removed]",
      "text/plain": [
       "<Figure size 432x288 with 1 Axes>"
      ]
     },
     "metadata": {
      "needs_background": "light"
     },
     "output_type": "display_data"
    }
   ],
   "source": [
    "evaluate(rfc, X_train, X_test, y_train, y_test)"
   ]
  },
  {
   "cell_type": "code",
   "execution_count": 30,
   "metadata": {},
   "outputs": [
    {
     "name": "stderr",
     "output_type": "stream",
     "text": [
      "COMET ERROR: Failed to extract parameters from estimator\n",
      "[Parallel(n_jobs=-1)]: Using backend LokyBackend with 4 concurrent workers.\n"
     ]
    },
    {
     "name": "stdout",
     "output_type": "stream",
     "text": [
      "Fitting 5 folds for each of 1 candidates, totalling 5 fits\n"
     ]
    },
    {
     "name": "stderr",
     "output_type": "stream",
     "text": [
      "[Parallel(n_jobs=-1)]: Done   5 out of   5 | elapsed:    0.7s finished\n",
      "COMET ERROR: Failed to extract parameters from estimator\n",
      "COMET ERROR: Failed to extract parameters from estimator\n"
     ]
    },
    {
     "name": "stdout",
     "output_type": "stream",
     "text": [
      "Tuned Logistic Regression Parameter: {'rfc__class_weight': None, 'rfc__criterion': 'gini', 'rfc__max_depth': None}\n",
      "Tuned Logistic Regression Accuracy: 0.5800000000000001\n",
      "CPU times: user 345 ms, sys: 38.7 ms, total: 383 ms\n",
      "Wall time: 963 ms\n"
     ]
    },
    {
     "data": {
      "text/plain": [
       "GridSearchCV(cv=5, error_score=nan,\n",
       "             estimator=Pipeline(memory=None,\n",
       "                                steps=[('scaler',\n",
       "                                        StandardScaler(copy=True,\n",
       "                                                       with_mean=True,\n",
       "                                                       with_std=True)),\n",
       "                                       ('rfc',\n",
       "                                        RandomForestClassifier(bootstrap=True,\n",
       "                                                               ccp_alpha=0.0,\n",
       "                                                               class_weight=None,\n",
       "                                                               criterion='gini',\n",
       "                                                               max_depth=None,\n",
       "                                                               max_features='auto',\n",
       "                                                               max_leaf_nodes=None,\n",
       "                                                               max_samples=None,\n",
       "                                                               min_impurity_decrease=0.0,\n",
       "                                                               min_impurity_split=N...\n",
       "                                                               min_samples_split=2,\n",
       "                                                               min_weight_fraction_leaf=0.0,\n",
       "                                                               n_estimators=100,\n",
       "                                                               n_jobs=None,\n",
       "                                                               oob_score=False,\n",
       "                                                               random_state=None,\n",
       "                                                               verbose=0,\n",
       "                                                               warm_start=False))],\n",
       "                                verbose=False),\n",
       "             iid='deprecated', n_jobs=-1,\n",
       "             param_grid={'rfc__class_weight': [None],\n",
       "                         'rfc__criterion': ['gini'], 'rfc__max_depth': [None]},\n",
       "             pre_dispatch='2*n_jobs', refit=True, return_train_score=False,\n",
       "             scoring=None, verbose=True)"
      ]
     },
     "execution_count": 30,
     "metadata": {},
     "output_type": "execute_result"
    }
   ],
   "source": [
    "%%time\n",
    "# using STANDARD SCALER\n",
    "# Setup the pipeline\n",
    "steps = [('scaler', StandardScaler()),\n",
    "         ('rfc', RandomForestClassifier(n_estimators=100))\n",
    "         ]\n",
    "\n",
    "#steps = [('scaler', StandardScaler()),\n",
    "#         ('rfc', RandomForestClassifier(n_estimators=10))\n",
    "#         ]\n",
    "\n",
    "pipeline = Pipeline(steps)\n",
    "\n",
    "# Create the hyperparameter grid\n",
    "#c_space = np.logspace(-5, 8, 15)\n",
    "param_grid = {'rfc__max_depth': [None],\n",
    "                'rfc__class_weight': [None],\n",
    "                 'rfc__criterion' : ['gini']}\n",
    "\n",
    "\n",
    "# Instantiate the GridSearchCV object: logreg_cv\n",
    "rfc = GridSearchCV(pipeline, param_grid, cv=5, verbose=True, n_jobs=-1)\n",
    "\n",
    "# Fit it to the training data\n",
    "rfc.fit(X_train, y_train)\n",
    "\n",
    "rfc_predict = rfc.predict(X_test)\n",
    "\n",
    "# Print the optimal parameters and best score\n",
    "print(\"Tuned Logistic Regression Parameter: {}\".format(rfc.best_params_))\n",
    "print(\"Tuned Logistic Regression Accuracy: {}\".format(rfc.best_score_))\n",
    "\n",
    "\n",
    "# Compute and print metrics\n",
    "#print (confusion_matrix(y_test , rfc_predict))\n",
    "#print (\"Accuracy score: \", accuracy_score(y_test , rfc_predict))\n",
    "#print(\"F1 score: \", f1_score(y_test , rfc_predict))\n",
    "#print(\"Precision score: \" , precision_score(y_test , rfc_predict))\n",
    "#print(\"Recall score: \" , recall_score(y_test , rfc_predict))\n",
    "#print (classification_report(y_test , rfc_predict))\n",
    "rfc"
   ]
  },
  {
   "cell_type": "markdown",
   "metadata": {},
   "source": [
    "### Adding StandardScaler to the pipeline impacts the result. The results vary with different feature sets, so it is inconculsive whether it should be used. It will be easy to run a test to remove this from the final model."
   ]
  },
  {
   "cell_type": "code",
   "execution_count": 31,
   "metadata": {},
   "outputs": [
    {
     "name": "stdout",
     "output_type": "stream",
     "text": [
      "TRAINIG RESULTS: \n",
      "===============================\n",
      "RECALL SCORE:0.9649\n",
      "ACCURACY SCORE:0.9400\n",
      "CONFUSION MATRIX:\n",
      "[[39  4]\n",
      " [ 2 55]]\n",
      "CLASSIFICATION REPORT:\n",
      "                   0          1  accuracy   macro avg  weighted avg\n",
      "precision   0.951220   0.932203      0.94    0.941711      0.940380\n",
      "recall      0.906977   0.964912      0.94    0.935945      0.940000\n",
      "f1-score    0.928571   0.948276      0.94    0.938424      0.939803\n",
      "support    43.000000  57.000000      0.94  100.000000    100.000000\n",
      "\n",
      "\n",
      "TESTING RESULTS: \n",
      "===============================\n",
      "RECALL SCORE:0.6667\n",
      "ACCURACY SCORE:0.5000\n",
      "CONFUSION MATRIX:\n",
      "[[5 9]\n",
      " [4 8]]\n",
      "F1-score:  0.5517\n",
      "Test ROC AUC: 0.625 \n",
      "\n",
      "CLASSIFICATION REPORT:\n",
      "                   0          1  accuracy  macro avg  weighted avg\n",
      "precision   0.555556   0.470588       0.5   0.513072      0.516340\n",
      "recall      0.357143   0.666667       0.5   0.511905      0.500000\n",
      "f1-score    0.434783   0.551724       0.5   0.493253      0.488756\n",
      "support    14.000000  12.000000       0.5  26.000000     26.000000\n"
     ]
    },
    {
     "data": {
      "image/png": "[encoded data removed]",
      "text/plain": [
       "<Figure size 432x288 with 1 Axes>"
      ]
     },
     "metadata": {
      "needs_background": "light"
     },
     "output_type": "display_data"
    }
   ],
   "source": [
    "evaluate(rfc, X_train, X_test, y_train, y_test)"
   ]
  },
  {
   "cell_type": "code",
   "execution_count": null,
   "metadata": {},
   "outputs": [],
   "source": []
  },
  {
   "cell_type": "code",
   "execution_count": 32,
   "metadata": {},
   "outputs": [
    {
     "data": {
      "text/plain": [
       "Index(['DeliveredOnTime', 'ContentsCorrect', 'I ordered everything',\n",
       "       'GoodPrice', 'CourierSatisfaction', 'AppEasyOrdering', 'AvgSurvey'],\n",
       "      dtype='object')"
      ]
     },
     "execution_count": 32,
     "metadata": {},
     "output_type": "execute_result"
    }
   ],
   "source": [
    "df_cols = customer_data[:0]\n",
    "df_cols = df_cols.drop(['Happy'], axis = 1 )\n",
    "df_cols.columns"
   ]
  },
  {
   "cell_type": "code",
   "execution_count": 33,
   "metadata": {},
   "outputs": [
    {
     "data": {
      "text/plain": [
       "<AxesSubplot:>"
      ]
     },
     "execution_count": 33,
     "metadata": {},
     "output_type": "execute_result"
    },
    {
     "data": {
      "image/png": "[encoded data removed]",
      "text/plain": [
       "<Figure size 432x288 with 1 Axes>"
      ]
     },
     "metadata": {
      "needs_background": "light"
     },
     "output_type": "display_data"
    }
   ],
   "source": [
    "feat_importances = pd.Series(rfc.best_estimator_.named_steps['rfc'].feature_importances_,index=df_cols.columns)\n",
    "feat_importances.nlargest(10).plot(kind='barh')"
   ]
  },
  {
   "cell_type": "code",
   "execution_count": 34,
   "metadata": {},
   "outputs": [
    {
     "name": "stdout",
     "output_type": "stream",
     "text": [
      "AvgSurvey has a score of 0.21321592143414486\n",
      "CourierSatisfaction has a score of 0.1511553342244229\n",
      "DeliveredOnTime has a score of 0.15012729368448202\n",
      "GoodPrice has a score of 0.13037680253849512\n",
      "ContentsCorrect has a score of 0.12748334084542984\n",
      "I ordered everything has a score of 0.12636985223483688\n",
      "AppEasyOrdering has a score of 0.10127145503818853\n"
     ]
    }
   ],
   "source": [
    "for item1,item2 in sorted(zip(rfc.best_estimator_.named_steps['rfc'].feature_importances_,df_cols.columns),reverse=True):\n",
    "    print(f'{item2} has a score of {item1}')"
   ]
  },
  {
   "cell_type": "code",
   "execution_count": 35,
   "metadata": {},
   "outputs": [
    {
     "data": {
      "text/html": [
       "<div>\n",
       "<style scoped>\n",
       "    .dataframe tbody tr th:only-of-type {\n",
       "        vertical-align: middle;\n",
       "    }\n",
       "\n",
       "    .dataframe tbody tr th {\n",
       "        vertical-align: top;\n",
       "    }\n",
       "\n",
       "    .dataframe thead th {\n",
       "        text-align: right;\n",
       "    }\n",
       "</style>\n",
       "<table border=\"1\" class=\"dataframe\">\n",
       "  <thead>\n",
       "    <tr style=\"text-align: right;\">\n",
       "      <th></th>\n",
       "      <th>importance</th>\n",
       "    </tr>\n",
       "  </thead>\n",
       "  <tbody>\n",
       "    <tr>\n",
       "      <th>AvgSurvey</th>\n",
       "      <td>0.223964</td>\n",
       "    </tr>\n",
       "    <tr>\n",
       "      <th>DeliveredOnTime</th>\n",
       "      <td>0.148078</td>\n",
       "    </tr>\n",
       "    <tr>\n",
       "      <th>CourierSatisfaction</th>\n",
       "      <td>0.142882</td>\n",
       "    </tr>\n",
       "    <tr>\n",
       "      <th>ContentsCorrect</th>\n",
       "      <td>0.132280</td>\n",
       "    </tr>\n",
       "    <tr>\n",
       "      <th>GoodPrice</th>\n",
       "      <td>0.126802</td>\n",
       "    </tr>\n",
       "    <tr>\n",
       "      <th>I ordered everything</th>\n",
       "      <td>0.124305</td>\n",
       "    </tr>\n",
       "    <tr>\n",
       "      <th>AppEasyOrdering</th>\n",
       "      <td>0.101688</td>\n",
       "    </tr>\n",
       "  </tbody>\n",
       "</table>\n",
       "</div>"
      ],
      "text/plain": [
       "                      importance\n",
       "AvgSurvey               0.223964\n",
       "DeliveredOnTime         0.148078\n",
       "CourierSatisfaction     0.142882\n",
       "ContentsCorrect         0.132280\n",
       "GoodPrice               0.126802\n",
       "I ordered everything    0.124305\n",
       "AppEasyOrdering         0.101688"
      ]
     },
     "execution_count": 35,
     "metadata": {},
     "output_type": "execute_result"
    }
   ],
   "source": [
    "# Instantiate and fit the random forest model. \n",
    "rf = RandomForestClassifier().fit(X_train, y_train) \n",
    "# Explore feature importances\n",
    "feature_importances = pd.DataFrame(rf.feature_importances_,\n",
    "                                   index = X_train.columns,\n",
    "                                    columns=['importance']).sort_values('importance', ascending=False)\n",
    "# Print sorted list of feature importances\n",
    "feature_importances"
   ]
  },
  {
   "cell_type": "markdown",
   "metadata": {},
   "source": [
    "### Recursive Feature Elimination - Check Rank values 1 thru 5\n",
    "\n"
   ]
  },
  {
   "cell_type": "code",
   "execution_count": 36,
   "metadata": {},
   "outputs": [
    {
     "data": {
      "text/html": [
       "<div>\n",
       "<style scoped>\n",
       "    .dataframe tbody tr th:only-of-type {\n",
       "        vertical-align: middle;\n",
       "    }\n",
       "\n",
       "    .dataframe tbody tr th {\n",
       "        vertical-align: top;\n",
       "    }\n",
       "\n",
       "    .dataframe thead th {\n",
       "        text-align: right;\n",
       "    }\n",
       "</style>\n",
       "<table border=\"1\" class=\"dataframe\">\n",
       "  <thead>\n",
       "    <tr style=\"text-align: right;\">\n",
       "      <th></th>\n",
       "      <th>Feature</th>\n",
       "      <th>Ranking</th>\n",
       "    </tr>\n",
       "  </thead>\n",
       "  <tbody>\n",
       "    <tr>\n",
       "      <th>0</th>\n",
       "      <td>DeliveredOnTime</td>\n",
       "      <td>1</td>\n",
       "    </tr>\n",
       "    <tr>\n",
       "      <th>1</th>\n",
       "      <td>ContentsCorrect</td>\n",
       "      <td>1</td>\n",
       "    </tr>\n",
       "    <tr>\n",
       "      <th>3</th>\n",
       "      <td>GoodPrice</td>\n",
       "      <td>1</td>\n",
       "    </tr>\n",
       "    <tr>\n",
       "      <th>4</th>\n",
       "      <td>CourierSatisfaction</td>\n",
       "      <td>1</td>\n",
       "    </tr>\n",
       "    <tr>\n",
       "      <th>6</th>\n",
       "      <td>AvgSurvey</td>\n",
       "      <td>1</td>\n",
       "    </tr>\n",
       "    <tr>\n",
       "      <th>2</th>\n",
       "      <td>I ordered everything</td>\n",
       "      <td>2</td>\n",
       "    </tr>\n",
       "    <tr>\n",
       "      <th>5</th>\n",
       "      <td>AppEasyOrdering</td>\n",
       "      <td>3</td>\n",
       "    </tr>\n",
       "  </tbody>\n",
       "</table>\n",
       "</div>"
      ],
      "text/plain": [
       "                Feature  Ranking\n",
       "0       DeliveredOnTime        1\n",
       "1       ContentsCorrect        1\n",
       "3             GoodPrice        1\n",
       "4   CourierSatisfaction        1\n",
       "6             AvgSurvey        1\n",
       "2  I ordered everything        2\n",
       "5       AppEasyOrdering        3"
      ]
     },
     "execution_count": 36,
     "metadata": {},
     "output_type": "execute_result"
    }
   ],
   "source": [
    "# feature extraction, Random Forest\n",
    "\n",
    "rfe = RFE(rf, 5)\n",
    "fit = rfe.fit(X_train, y_train)\n",
    "selected_features = pd.DataFrame({'Feature':list(X.columns),'Ranking':fit.ranking_})\n",
    "selected_features.sort_values(by='Ranking')"
   ]
  },
  {
   "cell_type": "code",
   "execution_count": 37,
   "metadata": {},
   "outputs": [
    {
     "data": {
      "text/html": [
       "<div>\n",
       "<style scoped>\n",
       "    .dataframe tbody tr th:only-of-type {\n",
       "        vertical-align: middle;\n",
       "    }\n",
       "\n",
       "    .dataframe tbody tr th {\n",
       "        vertical-align: top;\n",
       "    }\n",
       "\n",
       "    .dataframe thead th {\n",
       "        text-align: right;\n",
       "    }\n",
       "</style>\n",
       "<table border=\"1\" class=\"dataframe\">\n",
       "  <thead>\n",
       "    <tr style=\"text-align: right;\">\n",
       "      <th></th>\n",
       "      <th>Feature</th>\n",
       "      <th>Ranking</th>\n",
       "    </tr>\n",
       "  </thead>\n",
       "  <tbody>\n",
       "    <tr>\n",
       "      <th>1</th>\n",
       "      <td>ContentsCorrect</td>\n",
       "      <td>1</td>\n",
       "    </tr>\n",
       "    <tr>\n",
       "      <th>3</th>\n",
       "      <td>GoodPrice</td>\n",
       "      <td>1</td>\n",
       "    </tr>\n",
       "    <tr>\n",
       "      <th>4</th>\n",
       "      <td>CourierSatisfaction</td>\n",
       "      <td>1</td>\n",
       "    </tr>\n",
       "    <tr>\n",
       "      <th>6</th>\n",
       "      <td>AvgSurvey</td>\n",
       "      <td>1</td>\n",
       "    </tr>\n",
       "    <tr>\n",
       "      <th>0</th>\n",
       "      <td>DeliveredOnTime</td>\n",
       "      <td>2</td>\n",
       "    </tr>\n",
       "    <tr>\n",
       "      <th>2</th>\n",
       "      <td>I ordered everything</td>\n",
       "      <td>3</td>\n",
       "    </tr>\n",
       "    <tr>\n",
       "      <th>5</th>\n",
       "      <td>AppEasyOrdering</td>\n",
       "      <td>4</td>\n",
       "    </tr>\n",
       "  </tbody>\n",
       "</table>\n",
       "</div>"
      ],
      "text/plain": [
       "                Feature  Ranking\n",
       "1       ContentsCorrect        1\n",
       "3             GoodPrice        1\n",
       "4   CourierSatisfaction        1\n",
       "6             AvgSurvey        1\n",
       "0       DeliveredOnTime        2\n",
       "2  I ordered everything        3\n",
       "5       AppEasyOrdering        4"
      ]
     },
     "execution_count": 37,
     "metadata": {},
     "output_type": "execute_result"
    }
   ],
   "source": [
    "rfe = RFE(rf, 4)\n",
    "fit = rfe.fit(X_train, y_train)\n",
    "selected_features = pd.DataFrame({'Feature':list(X.columns),'Ranking':fit.ranking_})\n",
    "selected_features.sort_values(by='Ranking')"
   ]
  },
  {
   "cell_type": "code",
   "execution_count": 38,
   "metadata": {},
   "outputs": [
    {
     "data": {
      "text/html": [
       "<div>\n",
       "<style scoped>\n",
       "    .dataframe tbody tr th:only-of-type {\n",
       "        vertical-align: middle;\n",
       "    }\n",
       "\n",
       "    .dataframe tbody tr th {\n",
       "        vertical-align: top;\n",
       "    }\n",
       "\n",
       "    .dataframe thead th {\n",
       "        text-align: right;\n",
       "    }\n",
       "</style>\n",
       "<table border=\"1\" class=\"dataframe\">\n",
       "  <thead>\n",
       "    <tr style=\"text-align: right;\">\n",
       "      <th></th>\n",
       "      <th>Feature</th>\n",
       "      <th>Ranking</th>\n",
       "    </tr>\n",
       "  </thead>\n",
       "  <tbody>\n",
       "    <tr>\n",
       "      <th>1</th>\n",
       "      <td>ContentsCorrect</td>\n",
       "      <td>1</td>\n",
       "    </tr>\n",
       "    <tr>\n",
       "      <th>4</th>\n",
       "      <td>CourierSatisfaction</td>\n",
       "      <td>1</td>\n",
       "    </tr>\n",
       "    <tr>\n",
       "      <th>6</th>\n",
       "      <td>AvgSurvey</td>\n",
       "      <td>1</td>\n",
       "    </tr>\n",
       "    <tr>\n",
       "      <th>0</th>\n",
       "      <td>DeliveredOnTime</td>\n",
       "      <td>2</td>\n",
       "    </tr>\n",
       "    <tr>\n",
       "      <th>3</th>\n",
       "      <td>GoodPrice</td>\n",
       "      <td>3</td>\n",
       "    </tr>\n",
       "    <tr>\n",
       "      <th>2</th>\n",
       "      <td>I ordered everything</td>\n",
       "      <td>4</td>\n",
       "    </tr>\n",
       "    <tr>\n",
       "      <th>5</th>\n",
       "      <td>AppEasyOrdering</td>\n",
       "      <td>5</td>\n",
       "    </tr>\n",
       "  </tbody>\n",
       "</table>\n",
       "</div>"
      ],
      "text/plain": [
       "                Feature  Ranking\n",
       "1       ContentsCorrect        1\n",
       "4   CourierSatisfaction        1\n",
       "6             AvgSurvey        1\n",
       "0       DeliveredOnTime        2\n",
       "3             GoodPrice        3\n",
       "2  I ordered everything        4\n",
       "5       AppEasyOrdering        5"
      ]
     },
     "execution_count": 38,
     "metadata": {},
     "output_type": "execute_result"
    }
   ],
   "source": [
    "rfe = RFE(rf, 3)\n",
    "fit = rfe.fit(X_train, y_train)\n",
    "selected_features = pd.DataFrame({'Feature':list(X.columns),'Ranking':fit.ranking_})\n",
    "selected_features.sort_values(by='Ranking')"
   ]
  },
  {
   "cell_type": "code",
   "execution_count": 39,
   "metadata": {},
   "outputs": [
    {
     "data": {
      "text/html": [
       "<div>\n",
       "<style scoped>\n",
       "    .dataframe tbody tr th:only-of-type {\n",
       "        vertical-align: middle;\n",
       "    }\n",
       "\n",
       "    .dataframe tbody tr th {\n",
       "        vertical-align: top;\n",
       "    }\n",
       "\n",
       "    .dataframe thead th {\n",
       "        text-align: right;\n",
       "    }\n",
       "</style>\n",
       "<table border=\"1\" class=\"dataframe\">\n",
       "  <thead>\n",
       "    <tr style=\"text-align: right;\">\n",
       "      <th></th>\n",
       "      <th>Feature</th>\n",
       "      <th>Ranking</th>\n",
       "    </tr>\n",
       "  </thead>\n",
       "  <tbody>\n",
       "    <tr>\n",
       "      <th>1</th>\n",
       "      <td>ContentsCorrect</td>\n",
       "      <td>1</td>\n",
       "    </tr>\n",
       "    <tr>\n",
       "      <th>6</th>\n",
       "      <td>AvgSurvey</td>\n",
       "      <td>1</td>\n",
       "    </tr>\n",
       "    <tr>\n",
       "      <th>4</th>\n",
       "      <td>CourierSatisfaction</td>\n",
       "      <td>2</td>\n",
       "    </tr>\n",
       "    <tr>\n",
       "      <th>3</th>\n",
       "      <td>GoodPrice</td>\n",
       "      <td>3</td>\n",
       "    </tr>\n",
       "    <tr>\n",
       "      <th>0</th>\n",
       "      <td>DeliveredOnTime</td>\n",
       "      <td>4</td>\n",
       "    </tr>\n",
       "    <tr>\n",
       "      <th>2</th>\n",
       "      <td>I ordered everything</td>\n",
       "      <td>5</td>\n",
       "    </tr>\n",
       "    <tr>\n",
       "      <th>5</th>\n",
       "      <td>AppEasyOrdering</td>\n",
       "      <td>6</td>\n",
       "    </tr>\n",
       "  </tbody>\n",
       "</table>\n",
       "</div>"
      ],
      "text/plain": [
       "                Feature  Ranking\n",
       "1       ContentsCorrect        1\n",
       "6             AvgSurvey        1\n",
       "4   CourierSatisfaction        2\n",
       "3             GoodPrice        3\n",
       "0       DeliveredOnTime        4\n",
       "2  I ordered everything        5\n",
       "5       AppEasyOrdering        6"
      ]
     },
     "execution_count": 39,
     "metadata": {},
     "output_type": "execute_result"
    }
   ],
   "source": [
    "rfe = RFE(rf, 2)\n",
    "fit = rfe.fit(X_train, y_train)\n",
    "selected_features = pd.DataFrame({'Feature':list(X.columns),'Ranking':fit.ranking_})\n",
    "selected_features.sort_values(by='Ranking')"
   ]
  },
  {
   "cell_type": "code",
   "execution_count": 40,
   "metadata": {},
   "outputs": [
    {
     "data": {
      "text/html": [
       "<div>\n",
       "<style scoped>\n",
       "    .dataframe tbody tr th:only-of-type {\n",
       "        vertical-align: middle;\n",
       "    }\n",
       "\n",
       "    .dataframe tbody tr th {\n",
       "        vertical-align: top;\n",
       "    }\n",
       "\n",
       "    .dataframe thead th {\n",
       "        text-align: right;\n",
       "    }\n",
       "</style>\n",
       "<table border=\"1\" class=\"dataframe\">\n",
       "  <thead>\n",
       "    <tr style=\"text-align: right;\">\n",
       "      <th></th>\n",
       "      <th>Feature</th>\n",
       "      <th>Ranking</th>\n",
       "    </tr>\n",
       "  </thead>\n",
       "  <tbody>\n",
       "    <tr>\n",
       "      <th>6</th>\n",
       "      <td>AvgSurvey</td>\n",
       "      <td>1</td>\n",
       "    </tr>\n",
       "    <tr>\n",
       "      <th>1</th>\n",
       "      <td>ContentsCorrect</td>\n",
       "      <td>2</td>\n",
       "    </tr>\n",
       "    <tr>\n",
       "      <th>4</th>\n",
       "      <td>CourierSatisfaction</td>\n",
       "      <td>3</td>\n",
       "    </tr>\n",
       "    <tr>\n",
       "      <th>0</th>\n",
       "      <td>DeliveredOnTime</td>\n",
       "      <td>4</td>\n",
       "    </tr>\n",
       "    <tr>\n",
       "      <th>2</th>\n",
       "      <td>I ordered everything</td>\n",
       "      <td>5</td>\n",
       "    </tr>\n",
       "    <tr>\n",
       "      <th>3</th>\n",
       "      <td>GoodPrice</td>\n",
       "      <td>6</td>\n",
       "    </tr>\n",
       "    <tr>\n",
       "      <th>5</th>\n",
       "      <td>AppEasyOrdering</td>\n",
       "      <td>7</td>\n",
       "    </tr>\n",
       "  </tbody>\n",
       "</table>\n",
       "</div>"
      ],
      "text/plain": [
       "                Feature  Ranking\n",
       "6             AvgSurvey        1\n",
       "1       ContentsCorrect        2\n",
       "4   CourierSatisfaction        3\n",
       "0       DeliveredOnTime        4\n",
       "2  I ordered everything        5\n",
       "3             GoodPrice        6\n",
       "5       AppEasyOrdering        7"
      ]
     },
     "execution_count": 40,
     "metadata": {},
     "output_type": "execute_result"
    }
   ],
   "source": [
    "rfe = RFE(rf, 1)\n",
    "fit = rfe.fit(X_train, y_train)\n",
    "selected_features = pd.DataFrame({'Feature':list(X.columns),'Ranking':fit.ranking_})\n",
    "selected_features.sort_values(by='Ranking')"
   ]
  },
  {
   "cell_type": "code",
   "execution_count": null,
   "metadata": {},
   "outputs": [],
   "source": []
  },
  {
   "cell_type": "code",
   "execution_count": 41,
   "metadata": {},
   "outputs": [],
   "source": [
    "# drop the 'easy_ordering_app' feature from train and test set\n",
    "X_train_rfe = X_train.drop(columns=['AppEasyOrdering'])\n",
    "X_test_rfe = X_test.drop(columns=['AppEasyOrdering'])"
   ]
  },
  {
   "cell_type": "code",
   "execution_count": 42,
   "metadata": {},
   "outputs": [
    {
     "name": "stderr",
     "output_type": "stream",
     "text": [
      "COMET ERROR: Failed to extract parameters from estimator\n",
      "[Parallel(n_jobs=-1)]: Using backend LokyBackend with 4 concurrent workers.\n"
     ]
    },
    {
     "name": "stdout",
     "output_type": "stream",
     "text": [
      "Fitting 5 folds for each of 1 candidates, totalling 5 fits\n"
     ]
    },
    {
     "name": "stderr",
     "output_type": "stream",
     "text": [
      "[Parallel(n_jobs=-1)]: Done   5 out of   5 | elapsed:    0.5s finished\n",
      "COMET ERROR: Failed to extract parameters from estimator\n",
      "COMET ERROR: Failed to extract parameters from estimator\n"
     ]
    }
   ],
   "source": [
    "rfc.fit(X_train_rfe, y_train)\n",
    "\n",
    "rfc_predict = rfc.predict(X_test_rfe)\n"
   ]
  },
  {
   "cell_type": "code",
   "execution_count": 43,
   "metadata": {},
   "outputs": [
    {
     "data": {
      "text/html": [
       "<div>\n",
       "<style scoped>\n",
       "    .dataframe tbody tr th:only-of-type {\n",
       "        vertical-align: middle;\n",
       "    }\n",
       "\n",
       "    .dataframe tbody tr th {\n",
       "        vertical-align: top;\n",
       "    }\n",
       "\n",
       "    .dataframe thead th {\n",
       "        text-align: right;\n",
       "    }\n",
       "</style>\n",
       "<table border=\"1\" class=\"dataframe\">\n",
       "  <thead>\n",
       "    <tr style=\"text-align: right;\">\n",
       "      <th></th>\n",
       "      <th>DeliveredOnTime</th>\n",
       "      <th>ContentsCorrect</th>\n",
       "      <th>I ordered everything</th>\n",
       "      <th>GoodPrice</th>\n",
       "      <th>CourierSatisfaction</th>\n",
       "      <th>AvgSurvey</th>\n",
       "    </tr>\n",
       "  </thead>\n",
       "  <tbody>\n",
       "    <tr>\n",
       "      <th>1</th>\n",
       "      <td>0</td>\n",
       "      <td>-1</td>\n",
       "      <td>0</td>\n",
       "      <td>2</td>\n",
       "      <td>1</td>\n",
       "      <td>0.333333</td>\n",
       "    </tr>\n",
       "    <tr>\n",
       "      <th>110</th>\n",
       "      <td>2</td>\n",
       "      <td>0</td>\n",
       "      <td>0</td>\n",
       "      <td>1</td>\n",
       "      <td>1</td>\n",
       "      <td>1.000000</td>\n",
       "    </tr>\n",
       "    <tr>\n",
       "      <th>58</th>\n",
       "      <td>2</td>\n",
       "      <td>0</td>\n",
       "      <td>2</td>\n",
       "      <td>2</td>\n",
       "      <td>1</td>\n",
       "      <td>1.500000</td>\n",
       "    </tr>\n",
       "    <tr>\n",
       "      <th>102</th>\n",
       "      <td>2</td>\n",
       "      <td>-1</td>\n",
       "      <td>0</td>\n",
       "      <td>0</td>\n",
       "      <td>0</td>\n",
       "      <td>0.500000</td>\n",
       "    </tr>\n",
       "    <tr>\n",
       "      <th>73</th>\n",
       "      <td>2</td>\n",
       "      <td>-1</td>\n",
       "      <td>0</td>\n",
       "      <td>0</td>\n",
       "      <td>-1</td>\n",
       "      <td>0.333333</td>\n",
       "    </tr>\n",
       "    <tr>\n",
       "      <th>...</th>\n",
       "      <td>...</td>\n",
       "      <td>...</td>\n",
       "      <td>...</td>\n",
       "      <td>...</td>\n",
       "      <td>...</td>\n",
       "      <td>...</td>\n",
       "    </tr>\n",
       "    <tr>\n",
       "      <th>23</th>\n",
       "      <td>2</td>\n",
       "      <td>-2</td>\n",
       "      <td>-1</td>\n",
       "      <td>2</td>\n",
       "      <td>-1</td>\n",
       "      <td>0.166667</td>\n",
       "    </tr>\n",
       "    <tr>\n",
       "      <th>13</th>\n",
       "      <td>1</td>\n",
       "      <td>-1</td>\n",
       "      <td>1</td>\n",
       "      <td>2</td>\n",
       "      <td>1</td>\n",
       "      <td>0.666667</td>\n",
       "    </tr>\n",
       "    <tr>\n",
       "      <th>11</th>\n",
       "      <td>1</td>\n",
       "      <td>1</td>\n",
       "      <td>0</td>\n",
       "      <td>1</td>\n",
       "      <td>1</td>\n",
       "      <td>0.833333</td>\n",
       "    </tr>\n",
       "    <tr>\n",
       "      <th>28</th>\n",
       "      <td>0</td>\n",
       "      <td>0</td>\n",
       "      <td>-2</td>\n",
       "      <td>0</td>\n",
       "      <td>0</td>\n",
       "      <td>-0.166667</td>\n",
       "    </tr>\n",
       "    <tr>\n",
       "      <th>117</th>\n",
       "      <td>2</td>\n",
       "      <td>-2</td>\n",
       "      <td>2</td>\n",
       "      <td>2</td>\n",
       "      <td>2</td>\n",
       "      <td>1.333333</td>\n",
       "    </tr>\n",
       "  </tbody>\n",
       "</table>\n",
       "<p>100 rows × 6 columns</p>\n",
       "</div>"
      ],
      "text/plain": [
       "     DeliveredOnTime  ContentsCorrect  I ordered everything  GoodPrice  \\\n",
       "1                  0               -1                     0          2   \n",
       "110                2                0                     0          1   \n",
       "58                 2                0                     2          2   \n",
       "102                2               -1                     0          0   \n",
       "73                 2               -1                     0          0   \n",
       "..               ...              ...                   ...        ...   \n",
       "23                 2               -2                    -1          2   \n",
       "13                 1               -1                     1          2   \n",
       "11                 1                1                     0          1   \n",
       "28                 0                0                    -2          0   \n",
       "117                2               -2                     2          2   \n",
       "\n",
       "     CourierSatisfaction  AvgSurvey  \n",
       "1                      1   0.333333  \n",
       "110                    1   1.000000  \n",
       "58                     1   1.500000  \n",
       "102                    0   0.500000  \n",
       "73                    -1   0.333333  \n",
       "..                   ...        ...  \n",
       "23                    -1   0.166667  \n",
       "13                     1   0.666667  \n",
       "11                     1   0.833333  \n",
       "28                     0  -0.166667  \n",
       "117                    2   1.333333  \n",
       "\n",
       "[100 rows x 6 columns]"
      ]
     },
     "execution_count": 43,
     "metadata": {},
     "output_type": "execute_result"
    }
   ],
   "source": [
    "X_train_rfe"
   ]
  },
  {
   "cell_type": "markdown",
   "metadata": {},
   "source": [
    "### After removing the lowest ranked feature, the improvement is not conclusive compared to the default model without adjustments. Removing a second feature is also inconclusive.  "
   ]
  },
  {
   "cell_type": "code",
   "execution_count": 44,
   "metadata": {},
   "outputs": [
    {
     "name": "stdout",
     "output_type": "stream",
     "text": [
      "TRAINIG RESULTS: \n",
      "===============================\n",
      "RECALL SCORE:0.9649\n",
      "ACCURACY SCORE:0.9400\n",
      "CONFUSION MATRIX:\n",
      "[[39  4]\n",
      " [ 2 55]]\n",
      "CLASSIFICATION REPORT:\n",
      "                   0          1  accuracy   macro avg  weighted avg\n",
      "precision   0.951220   0.932203      0.94    0.941711      0.940380\n",
      "recall      0.906977   0.964912      0.94    0.935945      0.940000\n",
      "f1-score    0.928571   0.948276      0.94    0.938424      0.939803\n",
      "support    43.000000  57.000000      0.94  100.000000    100.000000\n",
      "\n",
      "\n",
      "TESTING RESULTS: \n",
      "===============================\n",
      "RECALL SCORE:0.5833\n",
      "ACCURACY SCORE:0.5385\n",
      "CONFUSION MATRIX:\n",
      "[[7 7]\n",
      " [5 7]]\n",
      "F1-score:  0.5385\n",
      "Test ROC AUC: 0.5119 \n",
      "\n",
      "CLASSIFICATION REPORT:\n",
      "                   0          1  accuracy  macro avg  weighted avg\n",
      "precision   0.583333   0.500000  0.538462   0.541667      0.544872\n",
      "recall      0.500000   0.583333  0.538462   0.541667      0.538462\n",
      "f1-score    0.538462   0.538462  0.538462   0.538462      0.538462\n",
      "support    14.000000  12.000000  0.538462  26.000000     26.000000\n"
     ]
    },
    {
     "data": {
      "image/png": "[encoded data removed]",
      "text/plain": [
       "<Figure size 432x288 with 1 Axes>"
      ]
     },
     "metadata": {
      "needs_background": "light"
     },
     "output_type": "display_data"
    }
   ],
   "source": [
    "evaluate(rfc, X_train_rfe, X_test_rfe, y_train, y_test)"
   ]
  },
  {
   "cell_type": "code",
   "execution_count": 45,
   "metadata": {},
   "outputs": [
    {
     "data": {
      "text/html": [
       "<div>\n",
       "<style scoped>\n",
       "    .dataframe tbody tr th:only-of-type {\n",
       "        vertical-align: middle;\n",
       "    }\n",
       "\n",
       "    .dataframe tbody tr th {\n",
       "        vertical-align: top;\n",
       "    }\n",
       "\n",
       "    .dataframe thead th {\n",
       "        text-align: right;\n",
       "    }\n",
       "</style>\n",
       "<table border=\"1\" class=\"dataframe\">\n",
       "  <thead>\n",
       "    <tr style=\"text-align: right;\">\n",
       "      <th></th>\n",
       "      <th>DeliveredOnTime</th>\n",
       "      <th>ContentsCorrect</th>\n",
       "      <th>I ordered everything</th>\n",
       "      <th>GoodPrice</th>\n",
       "      <th>CourierSatisfaction</th>\n",
       "      <th>AvgSurvey</th>\n",
       "    </tr>\n",
       "  </thead>\n",
       "  <tbody>\n",
       "    <tr>\n",
       "      <th>1</th>\n",
       "      <td>0</td>\n",
       "      <td>-1</td>\n",
       "      <td>0</td>\n",
       "      <td>2</td>\n",
       "      <td>1</td>\n",
       "      <td>0.333333</td>\n",
       "    </tr>\n",
       "    <tr>\n",
       "      <th>110</th>\n",
       "      <td>2</td>\n",
       "      <td>0</td>\n",
       "      <td>0</td>\n",
       "      <td>1</td>\n",
       "      <td>1</td>\n",
       "      <td>1.000000</td>\n",
       "    </tr>\n",
       "    <tr>\n",
       "      <th>58</th>\n",
       "      <td>2</td>\n",
       "      <td>0</td>\n",
       "      <td>2</td>\n",
       "      <td>2</td>\n",
       "      <td>1</td>\n",
       "      <td>1.500000</td>\n",
       "    </tr>\n",
       "    <tr>\n",
       "      <th>102</th>\n",
       "      <td>2</td>\n",
       "      <td>-1</td>\n",
       "      <td>0</td>\n",
       "      <td>0</td>\n",
       "      <td>0</td>\n",
       "      <td>0.500000</td>\n",
       "    </tr>\n",
       "    <tr>\n",
       "      <th>73</th>\n",
       "      <td>2</td>\n",
       "      <td>-1</td>\n",
       "      <td>0</td>\n",
       "      <td>0</td>\n",
       "      <td>-1</td>\n",
       "      <td>0.333333</td>\n",
       "    </tr>\n",
       "    <tr>\n",
       "      <th>...</th>\n",
       "      <td>...</td>\n",
       "      <td>...</td>\n",
       "      <td>...</td>\n",
       "      <td>...</td>\n",
       "      <td>...</td>\n",
       "      <td>...</td>\n",
       "    </tr>\n",
       "    <tr>\n",
       "      <th>23</th>\n",
       "      <td>2</td>\n",
       "      <td>-2</td>\n",
       "      <td>-1</td>\n",
       "      <td>2</td>\n",
       "      <td>-1</td>\n",
       "      <td>0.166667</td>\n",
       "    </tr>\n",
       "    <tr>\n",
       "      <th>13</th>\n",
       "      <td>1</td>\n",
       "      <td>-1</td>\n",
       "      <td>1</td>\n",
       "      <td>2</td>\n",
       "      <td>1</td>\n",
       "      <td>0.666667</td>\n",
       "    </tr>\n",
       "    <tr>\n",
       "      <th>11</th>\n",
       "      <td>1</td>\n",
       "      <td>1</td>\n",
       "      <td>0</td>\n",
       "      <td>1</td>\n",
       "      <td>1</td>\n",
       "      <td>0.833333</td>\n",
       "    </tr>\n",
       "    <tr>\n",
       "      <th>28</th>\n",
       "      <td>0</td>\n",
       "      <td>0</td>\n",
       "      <td>-2</td>\n",
       "      <td>0</td>\n",
       "      <td>0</td>\n",
       "      <td>-0.166667</td>\n",
       "    </tr>\n",
       "    <tr>\n",
       "      <th>117</th>\n",
       "      <td>2</td>\n",
       "      <td>-2</td>\n",
       "      <td>2</td>\n",
       "      <td>2</td>\n",
       "      <td>2</td>\n",
       "      <td>1.333333</td>\n",
       "    </tr>\n",
       "  </tbody>\n",
       "</table>\n",
       "<p>100 rows × 6 columns</p>\n",
       "</div>"
      ],
      "text/plain": [
       "     DeliveredOnTime  ContentsCorrect  I ordered everything  GoodPrice  \\\n",
       "1                  0               -1                     0          2   \n",
       "110                2                0                     0          1   \n",
       "58                 2                0                     2          2   \n",
       "102                2               -1                     0          0   \n",
       "73                 2               -1                     0          0   \n",
       "..               ...              ...                   ...        ...   \n",
       "23                 2               -2                    -1          2   \n",
       "13                 1               -1                     1          2   \n",
       "11                 1                1                     0          1   \n",
       "28                 0                0                    -2          0   \n",
       "117                2               -2                     2          2   \n",
       "\n",
       "     CourierSatisfaction  AvgSurvey  \n",
       "1                      1   0.333333  \n",
       "110                    1   1.000000  \n",
       "58                     1   1.500000  \n",
       "102                    0   0.500000  \n",
       "73                    -1   0.333333  \n",
       "..                   ...        ...  \n",
       "23                    -1   0.166667  \n",
       "13                     1   0.666667  \n",
       "11                     1   0.833333  \n",
       "28                     0  -0.166667  \n",
       "117                    2   1.333333  \n",
       "\n",
       "[100 rows x 6 columns]"
      ]
     },
     "execution_count": 45,
     "metadata": {},
     "output_type": "execute_result"
    }
   ],
   "source": [
    "X_train_rfe"
   ]
  },
  {
   "cell_type": "code",
   "execution_count": 46,
   "metadata": {},
   "outputs": [
    {
     "data": {
      "text/html": [
       "<div>\n",
       "<style scoped>\n",
       "    .dataframe tbody tr th:only-of-type {\n",
       "        vertical-align: middle;\n",
       "    }\n",
       "\n",
       "    .dataframe tbody tr th {\n",
       "        vertical-align: top;\n",
       "    }\n",
       "\n",
       "    .dataframe thead th {\n",
       "        text-align: right;\n",
       "    }\n",
       "</style>\n",
       "<table border=\"1\" class=\"dataframe\">\n",
       "  <thead>\n",
       "    <tr style=\"text-align: right;\">\n",
       "      <th></th>\n",
       "      <th>importance</th>\n",
       "    </tr>\n",
       "  </thead>\n",
       "  <tbody>\n",
       "    <tr>\n",
       "      <th>AvgSurvey</th>\n",
       "      <td>0.233919</td>\n",
       "    </tr>\n",
       "    <tr>\n",
       "      <th>CourierSatisfaction</th>\n",
       "      <td>0.167456</td>\n",
       "    </tr>\n",
       "    <tr>\n",
       "      <th>DeliveredOnTime</th>\n",
       "      <td>0.163590</td>\n",
       "    </tr>\n",
       "    <tr>\n",
       "      <th>GoodPrice</th>\n",
       "      <td>0.152433</td>\n",
       "    </tr>\n",
       "    <tr>\n",
       "      <th>ContentsCorrect</th>\n",
       "      <td>0.144072</td>\n",
       "    </tr>\n",
       "    <tr>\n",
       "      <th>I ordered everything</th>\n",
       "      <td>0.138530</td>\n",
       "    </tr>\n",
       "  </tbody>\n",
       "</table>\n",
       "</div>"
      ],
      "text/plain": [
       "                      importance\n",
       "AvgSurvey               0.233919\n",
       "CourierSatisfaction     0.167456\n",
       "DeliveredOnTime         0.163590\n",
       "GoodPrice               0.152433\n",
       "ContentsCorrect         0.144072\n",
       "I ordered everything    0.138530"
      ]
     },
     "execution_count": 46,
     "metadata": {},
     "output_type": "execute_result"
    }
   ],
   "source": [
    "feature_importances = pd.DataFrame(rfc.best_estimator_.named_steps[\"rfc\"].feature_importances_,\n",
    "                                   index = X_train_rfe.columns,\n",
    "                                    columns=['importance']).sort_values('importance', ascending=False)\n",
    "# Print sorted list of feature importances\n",
    "feature_importances"
   ]
  },
  {
   "cell_type": "code",
   "execution_count": 47,
   "metadata": {},
   "outputs": [],
   "source": [
    "# drop the 'easy_ordering_app' feature from train and test set\n",
    "X_train_rfe = X_train.drop(columns=['AppEasyOrdering','I ordered everything'])\n",
    "X_test_rfe = X_test.drop(columns=['AppEasyOrdering','I ordered everything'])"
   ]
  },
  {
   "cell_type": "code",
   "execution_count": 48,
   "metadata": {},
   "outputs": [
    {
     "name": "stderr",
     "output_type": "stream",
     "text": [
      "COMET ERROR: Failed to extract parameters from estimator\n",
      "[Parallel(n_jobs=-1)]: Using backend LokyBackend with 4 concurrent workers.\n"
     ]
    },
    {
     "name": "stdout",
     "output_type": "stream",
     "text": [
      "Fitting 5 folds for each of 1 candidates, totalling 5 fits\n"
     ]
    },
    {
     "name": "stderr",
     "output_type": "stream",
     "text": [
      "[Parallel(n_jobs=-1)]: Done   5 out of   5 | elapsed:    0.8s finished\n",
      "COMET ERROR: Failed to extract parameters from estimator\n",
      "COMET ERROR: Failed to extract parameters from estimator\n"
     ]
    }
   ],
   "source": [
    "rfc.fit(X_train_rfe, y_train)\n",
    "\n",
    "rfc_predict = rfc.predict(X_test_rfe)\n"
   ]
  },
  {
   "cell_type": "code",
   "execution_count": 49,
   "metadata": {},
   "outputs": [
    {
     "name": "stdout",
     "output_type": "stream",
     "text": [
      "TRAINIG RESULTS: \n",
      "===============================\n",
      "RECALL SCORE:0.9649\n",
      "ACCURACY SCORE:0.9400\n",
      "CONFUSION MATRIX:\n",
      "[[39  4]\n",
      " [ 2 55]]\n",
      "CLASSIFICATION REPORT:\n",
      "                   0          1  accuracy   macro avg  weighted avg\n",
      "precision   0.951220   0.932203      0.94    0.941711      0.940380\n",
      "recall      0.906977   0.964912      0.94    0.935945      0.940000\n",
      "f1-score    0.928571   0.948276      0.94    0.938424      0.939803\n",
      "support    43.000000  57.000000      0.94  100.000000    100.000000\n",
      "\n",
      "\n",
      "TESTING RESULTS: \n",
      "===============================\n",
      "RECALL SCORE:0.5833\n",
      "ACCURACY SCORE:0.5000\n",
      "CONFUSION MATRIX:\n",
      "[[6 8]\n",
      " [5 7]]\n",
      "F1-score:  0.5185\n",
      "Test ROC AUC: 0.5655 \n",
      "\n",
      "CLASSIFICATION REPORT:\n",
      "                   0          1  accuracy  macro avg  weighted avg\n",
      "precision   0.545455   0.466667       0.5   0.506061      0.509091\n",
      "recall      0.428571   0.583333       0.5   0.505952      0.500000\n",
      "f1-score    0.480000   0.518519       0.5   0.499259      0.497778\n",
      "support    14.000000  12.000000       0.5  26.000000     26.000000\n"
     ]
    },
    {
     "data": {
      "image/png": "[encoded data removed]",
      "text/plain": [
       "<Figure size 432x288 with 1 Axes>"
      ]
     },
     "metadata": {
      "needs_background": "light"
     },
     "output_type": "display_data"
    }
   ],
   "source": [
    "evaluate(rfc, X_train_rfe, X_test_rfe, y_train, y_test)"
   ]
  },
  {
   "cell_type": "code",
   "execution_count": 50,
   "metadata": {},
   "outputs": [
    {
     "data": {
      "text/html": [
       "<div>\n",
       "<style scoped>\n",
       "    .dataframe tbody tr th:only-of-type {\n",
       "        vertical-align: middle;\n",
       "    }\n",
       "\n",
       "    .dataframe tbody tr th {\n",
       "        vertical-align: top;\n",
       "    }\n",
       "\n",
       "    .dataframe thead th {\n",
       "        text-align: right;\n",
       "    }\n",
       "</style>\n",
       "<table border=\"1\" class=\"dataframe\">\n",
       "  <thead>\n",
       "    <tr style=\"text-align: right;\">\n",
       "      <th></th>\n",
       "      <th>DeliveredOnTime</th>\n",
       "      <th>ContentsCorrect</th>\n",
       "      <th>GoodPrice</th>\n",
       "      <th>CourierSatisfaction</th>\n",
       "      <th>AvgSurvey</th>\n",
       "    </tr>\n",
       "  </thead>\n",
       "  <tbody>\n",
       "    <tr>\n",
       "      <th>1</th>\n",
       "      <td>0</td>\n",
       "      <td>-1</td>\n",
       "      <td>2</td>\n",
       "      <td>1</td>\n",
       "      <td>0.333333</td>\n",
       "    </tr>\n",
       "    <tr>\n",
       "      <th>110</th>\n",
       "      <td>2</td>\n",
       "      <td>0</td>\n",
       "      <td>1</td>\n",
       "      <td>1</td>\n",
       "      <td>1.000000</td>\n",
       "    </tr>\n",
       "    <tr>\n",
       "      <th>58</th>\n",
       "      <td>2</td>\n",
       "      <td>0</td>\n",
       "      <td>2</td>\n",
       "      <td>1</td>\n",
       "      <td>1.500000</td>\n",
       "    </tr>\n",
       "    <tr>\n",
       "      <th>102</th>\n",
       "      <td>2</td>\n",
       "      <td>-1</td>\n",
       "      <td>0</td>\n",
       "      <td>0</td>\n",
       "      <td>0.500000</td>\n",
       "    </tr>\n",
       "    <tr>\n",
       "      <th>73</th>\n",
       "      <td>2</td>\n",
       "      <td>-1</td>\n",
       "      <td>0</td>\n",
       "      <td>-1</td>\n",
       "      <td>0.333333</td>\n",
       "    </tr>\n",
       "    <tr>\n",
       "      <th>...</th>\n",
       "      <td>...</td>\n",
       "      <td>...</td>\n",
       "      <td>...</td>\n",
       "      <td>...</td>\n",
       "      <td>...</td>\n",
       "    </tr>\n",
       "    <tr>\n",
       "      <th>23</th>\n",
       "      <td>2</td>\n",
       "      <td>-2</td>\n",
       "      <td>2</td>\n",
       "      <td>-1</td>\n",
       "      <td>0.166667</td>\n",
       "    </tr>\n",
       "    <tr>\n",
       "      <th>13</th>\n",
       "      <td>1</td>\n",
       "      <td>-1</td>\n",
       "      <td>2</td>\n",
       "      <td>1</td>\n",
       "      <td>0.666667</td>\n",
       "    </tr>\n",
       "    <tr>\n",
       "      <th>11</th>\n",
       "      <td>1</td>\n",
       "      <td>1</td>\n",
       "      <td>1</td>\n",
       "      <td>1</td>\n",
       "      <td>0.833333</td>\n",
       "    </tr>\n",
       "    <tr>\n",
       "      <th>28</th>\n",
       "      <td>0</td>\n",
       "      <td>0</td>\n",
       "      <td>0</td>\n",
       "      <td>0</td>\n",
       "      <td>-0.166667</td>\n",
       "    </tr>\n",
       "    <tr>\n",
       "      <th>117</th>\n",
       "      <td>2</td>\n",
       "      <td>-2</td>\n",
       "      <td>2</td>\n",
       "      <td>2</td>\n",
       "      <td>1.333333</td>\n",
       "    </tr>\n",
       "  </tbody>\n",
       "</table>\n",
       "<p>100 rows × 5 columns</p>\n",
       "</div>"
      ],
      "text/plain": [
       "     DeliveredOnTime  ContentsCorrect  GoodPrice  CourierSatisfaction  \\\n",
       "1                  0               -1          2                    1   \n",
       "110                2                0          1                    1   \n",
       "58                 2                0          2                    1   \n",
       "102                2               -1          0                    0   \n",
       "73                 2               -1          0                   -1   \n",
       "..               ...              ...        ...                  ...   \n",
       "23                 2               -2          2                   -1   \n",
       "13                 1               -1          2                    1   \n",
       "11                 1                1          1                    1   \n",
       "28                 0                0          0                    0   \n",
       "117                2               -2          2                    2   \n",
       "\n",
       "     AvgSurvey  \n",
       "1     0.333333  \n",
       "110   1.000000  \n",
       "58    1.500000  \n",
       "102   0.500000  \n",
       "73    0.333333  \n",
       "..         ...  \n",
       "23    0.166667  \n",
       "13    0.666667  \n",
       "11    0.833333  \n",
       "28   -0.166667  \n",
       "117   1.333333  \n",
       "\n",
       "[100 rows x 5 columns]"
      ]
     },
     "execution_count": 50,
     "metadata": {},
     "output_type": "execute_result"
    }
   ],
   "source": [
    "X_train_rfe"
   ]
  },
  {
   "cell_type": "code",
   "execution_count": 51,
   "metadata": {},
   "outputs": [
    {
     "data": {
      "text/html": [
       "<div>\n",
       "<style scoped>\n",
       "    .dataframe tbody tr th:only-of-type {\n",
       "        vertical-align: middle;\n",
       "    }\n",
       "\n",
       "    .dataframe tbody tr th {\n",
       "        vertical-align: top;\n",
       "    }\n",
       "\n",
       "    .dataframe thead th {\n",
       "        text-align: right;\n",
       "    }\n",
       "</style>\n",
       "<table border=\"1\" class=\"dataframe\">\n",
       "  <thead>\n",
       "    <tr style=\"text-align: right;\">\n",
       "      <th></th>\n",
       "      <th>importance</th>\n",
       "    </tr>\n",
       "  </thead>\n",
       "  <tbody>\n",
       "    <tr>\n",
       "      <th>AvgSurvey</th>\n",
       "      <td>0.311464</td>\n",
       "    </tr>\n",
       "    <tr>\n",
       "      <th>ContentsCorrect</th>\n",
       "      <td>0.176555</td>\n",
       "    </tr>\n",
       "    <tr>\n",
       "      <th>DeliveredOnTime</th>\n",
       "      <td>0.176499</td>\n",
       "    </tr>\n",
       "    <tr>\n",
       "      <th>GoodPrice</th>\n",
       "      <td>0.174638</td>\n",
       "    </tr>\n",
       "    <tr>\n",
       "      <th>CourierSatisfaction</th>\n",
       "      <td>0.160844</td>\n",
       "    </tr>\n",
       "  </tbody>\n",
       "</table>\n",
       "</div>"
      ],
      "text/plain": [
       "                     importance\n",
       "AvgSurvey              0.311464\n",
       "ContentsCorrect        0.176555\n",
       "DeliveredOnTime        0.176499\n",
       "GoodPrice              0.174638\n",
       "CourierSatisfaction    0.160844"
      ]
     },
     "execution_count": 51,
     "metadata": {},
     "output_type": "execute_result"
    }
   ],
   "source": [
    "feature_importances = pd.DataFrame(rfc.best_estimator_.named_steps[\"rfc\"].feature_importances_,\n",
    "                                   index = X_train_rfe.columns,\n",
    "                                    columns=['importance']).sort_values('importance', ascending=False)\n",
    "# Print sorted list of feature importances\n",
    "feature_importances"
   ]
  },
  {
   "cell_type": "code",
   "execution_count": 52,
   "metadata": {},
   "outputs": [
    {
     "name": "stderr",
     "output_type": "stream",
     "text": [
      "COMET ERROR: Failed to extract parameters from estimator\n",
      "[Parallel(n_jobs=-1)]: Using backend LokyBackend with 4 concurrent workers.\n"
     ]
    },
    {
     "name": "stdout",
     "output_type": "stream",
     "text": [
      "Fitting 5 folds for each of 1 candidates, totalling 5 fits\n"
     ]
    },
    {
     "name": "stderr",
     "output_type": "stream",
     "text": [
      "[Parallel(n_jobs=-1)]: Done   5 out of   5 | elapsed:    0.5s finished\n",
      "COMET ERROR: Failed to extract parameters from estimator\n",
      "COMET ERROR: Failed to extract parameters from estimator\n"
     ]
    },
    {
     "name": "stdout",
     "output_type": "stream",
     "text": [
      "Tuned Logistic Regression Parameter: {'rfc__class_weight': None, 'rfc__criterion': 'gini', 'rfc__max_depth': None}\n",
      "Tuned Logistic Regression Accuracy: 0.58\n",
      "CPU times: user 222 ms, sys: 12.6 ms, total: 235 ms\n",
      "Wall time: 716 ms\n"
     ]
    },
    {
     "data": {
      "text/plain": [
       "GridSearchCV(cv=5, error_score=nan,\n",
       "             estimator=Pipeline(memory=None,\n",
       "                                steps=[('rfc',\n",
       "                                        RandomForestClassifier(bootstrap=True,\n",
       "                                                               ccp_alpha=0.0,\n",
       "                                                               class_weight=None,\n",
       "                                                               criterion='gini',\n",
       "                                                               max_depth=None,\n",
       "                                                               max_features='auto',\n",
       "                                                               max_leaf_nodes=None,\n",
       "                                                               max_samples=None,\n",
       "                                                               min_impurity_decrease=0.0,\n",
       "                                                               min_impurity_split=None,\n",
       "                                                               min_samples_leaf=1,\n",
       "                                                               min_samples_split=2,\n",
       "                                                               min_weight_fraction_leaf=0.0,\n",
       "                                                               n_estimators=100,\n",
       "                                                               n_jobs=None,\n",
       "                                                               oob_score=False,\n",
       "                                                               random_state=None,\n",
       "                                                               verbose=0,\n",
       "                                                               warm_start=False))],\n",
       "                                verbose=False),\n",
       "             iid='deprecated', n_jobs=-1,\n",
       "             param_grid={'rfc__class_weight': [None],\n",
       "                         'rfc__criterion': ['gini'], 'rfc__max_depth': [None]},\n",
       "             pre_dispatch='2*n_jobs', refit=True, return_train_score=False,\n",
       "             scoring=None, verbose=True)"
      ]
     },
     "execution_count": 52,
     "metadata": {},
     "output_type": "execute_result"
    }
   ],
   "source": [
    "%%time\n",
    "# RUN THE PIPELINE WITH DEFAULT PARAMETERS BEFORE USING STANDARD SCALER\n",
    "# Setup the pipeline\n",
    "steps = [\n",
    "         ('rfc', RandomForestClassifier(n_estimators=100))\n",
    "         ]\n",
    "\n",
    "#steps = [('scaler', StandardScaler()),\n",
    "#         ('rfc', RandomForestClassifier(n_estimators=10))\n",
    "#         ]\n",
    "\n",
    "pipeline = Pipeline(steps)\n",
    "\n",
    "# Create the hyperparameter grid\n",
    "#c_space = np.logspace(-5, 8, 15)\n",
    "param_grid = {'rfc__max_depth': [None],\n",
    "                'rfc__class_weight': [None],\n",
    "                 'rfc__criterion' : ['gini']}\n",
    "\n",
    "\n",
    "# Instantiate the GridSearchCV object: logreg_cv\n",
    "rfc = GridSearchCV(pipeline, param_grid, cv=5, verbose=True, n_jobs=-1)\n",
    "\n",
    "# Fit it to the training data\n",
    "rfc.fit(X_train, y_train)\n",
    "\n",
    "rfc_predict = rfc.predict(X_test)\n",
    "\n",
    "# Print the optimal parameters and best score\n",
    "print(\"Tuned Logistic Regression Parameter: {}\".format(rfc.best_params_))\n",
    "print(\"Tuned Logistic Regression Accuracy: {}\".format(rfc.best_score_))\n",
    "\n",
    "\n",
    "# Compute and print metrics\n",
    "#print (confusion_matrix(y_test , rfc_predict))\n",
    "#print (\"Accuracy score: \", accuracy_score(y_test , rfc_predict))\n",
    "#print(\"F1 score: \", f1_score(y_test , rfc_predict))\n",
    "#print(\"Precision score: \" , precision_score(y_test , rfc_predict))\n",
    "#print(\"Recall score: \" , recall_score(y_test , rfc_predict))\n",
    "#print (classification_report(y_test , rfc_predict))\n",
    "rfc"
   ]
  },
  {
   "cell_type": "code",
   "execution_count": 53,
   "metadata": {},
   "outputs": [],
   "source": [
    "# drop the 'easy_ordering_app' feature from train and test set\n",
    "X_train_rfe = X_train.drop(columns=['AppEasyOrdering'])\n",
    "X_test_rfe = X_test.drop(columns=['AppEasyOrdering'])"
   ]
  },
  {
   "cell_type": "code",
   "execution_count": 54,
   "metadata": {},
   "outputs": [
    {
     "name": "stderr",
     "output_type": "stream",
     "text": [
      "COMET ERROR: Failed to extract parameters from estimator\n",
      "[Parallel(n_jobs=-1)]: Using backend LokyBackend with 4 concurrent workers.\n"
     ]
    },
    {
     "name": "stdout",
     "output_type": "stream",
     "text": [
      "Fitting 5 folds for each of 1 candidates, totalling 5 fits\n"
     ]
    },
    {
     "name": "stderr",
     "output_type": "stream",
     "text": [
      "[Parallel(n_jobs=-1)]: Done   5 out of   5 | elapsed:    0.5s finished\n",
      "COMET ERROR: Failed to extract parameters from estimator\n",
      "COMET ERROR: Failed to extract parameters from estimator\n"
     ]
    }
   ],
   "source": [
    "rfc.fit(X_train_rfe, y_train)\n",
    "\n",
    "rfc_predict = rfc.predict(X_test_rfe)\n"
   ]
  },
  {
   "cell_type": "code",
   "execution_count": 55,
   "metadata": {},
   "outputs": [
    {
     "data": {
      "text/html": [
       "<div>\n",
       "<style scoped>\n",
       "    .dataframe tbody tr th:only-of-type {\n",
       "        vertical-align: middle;\n",
       "    }\n",
       "\n",
       "    .dataframe tbody tr th {\n",
       "        vertical-align: top;\n",
       "    }\n",
       "\n",
       "    .dataframe thead th {\n",
       "        text-align: right;\n",
       "    }\n",
       "</style>\n",
       "<table border=\"1\" class=\"dataframe\">\n",
       "  <thead>\n",
       "    <tr style=\"text-align: right;\">\n",
       "      <th></th>\n",
       "      <th>DeliveredOnTime</th>\n",
       "      <th>ContentsCorrect</th>\n",
       "      <th>I ordered everything</th>\n",
       "      <th>GoodPrice</th>\n",
       "      <th>CourierSatisfaction</th>\n",
       "      <th>AvgSurvey</th>\n",
       "    </tr>\n",
       "  </thead>\n",
       "  <tbody>\n",
       "    <tr>\n",
       "      <th>1</th>\n",
       "      <td>0</td>\n",
       "      <td>-1</td>\n",
       "      <td>0</td>\n",
       "      <td>2</td>\n",
       "      <td>1</td>\n",
       "      <td>0.333333</td>\n",
       "    </tr>\n",
       "    <tr>\n",
       "      <th>110</th>\n",
       "      <td>2</td>\n",
       "      <td>0</td>\n",
       "      <td>0</td>\n",
       "      <td>1</td>\n",
       "      <td>1</td>\n",
       "      <td>1.000000</td>\n",
       "    </tr>\n",
       "    <tr>\n",
       "      <th>58</th>\n",
       "      <td>2</td>\n",
       "      <td>0</td>\n",
       "      <td>2</td>\n",
       "      <td>2</td>\n",
       "      <td>1</td>\n",
       "      <td>1.500000</td>\n",
       "    </tr>\n",
       "    <tr>\n",
       "      <th>102</th>\n",
       "      <td>2</td>\n",
       "      <td>-1</td>\n",
       "      <td>0</td>\n",
       "      <td>0</td>\n",
       "      <td>0</td>\n",
       "      <td>0.500000</td>\n",
       "    </tr>\n",
       "    <tr>\n",
       "      <th>73</th>\n",
       "      <td>2</td>\n",
       "      <td>-1</td>\n",
       "      <td>0</td>\n",
       "      <td>0</td>\n",
       "      <td>-1</td>\n",
       "      <td>0.333333</td>\n",
       "    </tr>\n",
       "    <tr>\n",
       "      <th>...</th>\n",
       "      <td>...</td>\n",
       "      <td>...</td>\n",
       "      <td>...</td>\n",
       "      <td>...</td>\n",
       "      <td>...</td>\n",
       "      <td>...</td>\n",
       "    </tr>\n",
       "    <tr>\n",
       "      <th>23</th>\n",
       "      <td>2</td>\n",
       "      <td>-2</td>\n",
       "      <td>-1</td>\n",
       "      <td>2</td>\n",
       "      <td>-1</td>\n",
       "      <td>0.166667</td>\n",
       "    </tr>\n",
       "    <tr>\n",
       "      <th>13</th>\n",
       "      <td>1</td>\n",
       "      <td>-1</td>\n",
       "      <td>1</td>\n",
       "      <td>2</td>\n",
       "      <td>1</td>\n",
       "      <td>0.666667</td>\n",
       "    </tr>\n",
       "    <tr>\n",
       "      <th>11</th>\n",
       "      <td>1</td>\n",
       "      <td>1</td>\n",
       "      <td>0</td>\n",
       "      <td>1</td>\n",
       "      <td>1</td>\n",
       "      <td>0.833333</td>\n",
       "    </tr>\n",
       "    <tr>\n",
       "      <th>28</th>\n",
       "      <td>0</td>\n",
       "      <td>0</td>\n",
       "      <td>-2</td>\n",
       "      <td>0</td>\n",
       "      <td>0</td>\n",
       "      <td>-0.166667</td>\n",
       "    </tr>\n",
       "    <tr>\n",
       "      <th>117</th>\n",
       "      <td>2</td>\n",
       "      <td>-2</td>\n",
       "      <td>2</td>\n",
       "      <td>2</td>\n",
       "      <td>2</td>\n",
       "      <td>1.333333</td>\n",
       "    </tr>\n",
       "  </tbody>\n",
       "</table>\n",
       "<p>100 rows × 6 columns</p>\n",
       "</div>"
      ],
      "text/plain": [
       "     DeliveredOnTime  ContentsCorrect  I ordered everything  GoodPrice  \\\n",
       "1                  0               -1                     0          2   \n",
       "110                2                0                     0          1   \n",
       "58                 2                0                     2          2   \n",
       "102                2               -1                     0          0   \n",
       "73                 2               -1                     0          0   \n",
       "..               ...              ...                   ...        ...   \n",
       "23                 2               -2                    -1          2   \n",
       "13                 1               -1                     1          2   \n",
       "11                 1                1                     0          1   \n",
       "28                 0                0                    -2          0   \n",
       "117                2               -2                     2          2   \n",
       "\n",
       "     CourierSatisfaction  AvgSurvey  \n",
       "1                      1   0.333333  \n",
       "110                    1   1.000000  \n",
       "58                     1   1.500000  \n",
       "102                    0   0.500000  \n",
       "73                    -1   0.333333  \n",
       "..                   ...        ...  \n",
       "23                    -1   0.166667  \n",
       "13                     1   0.666667  \n",
       "11                     1   0.833333  \n",
       "28                     0  -0.166667  \n",
       "117                    2   1.333333  \n",
       "\n",
       "[100 rows x 6 columns]"
      ]
     },
     "execution_count": 55,
     "metadata": {},
     "output_type": "execute_result"
    }
   ],
   "source": [
    "X_train_rfe"
   ]
  },
  {
   "cell_type": "code",
   "execution_count": 56,
   "metadata": {},
   "outputs": [
    {
     "name": "stdout",
     "output_type": "stream",
     "text": [
      "TRAINIG RESULTS: \n",
      "===============================\n",
      "RECALL SCORE:0.9649\n",
      "ACCURACY SCORE:0.9400\n",
      "CONFUSION MATRIX:\n",
      "[[39  4]\n",
      " [ 2 55]]\n",
      "CLASSIFICATION REPORT:\n",
      "                   0          1  accuracy   macro avg  weighted avg\n",
      "precision   0.951220   0.932203      0.94    0.941711      0.940380\n",
      "recall      0.906977   0.964912      0.94    0.935945      0.940000\n",
      "f1-score    0.928571   0.948276      0.94    0.938424      0.939803\n",
      "support    43.000000  57.000000      0.94  100.000000    100.000000\n",
      "\n",
      "\n",
      "TESTING RESULTS: \n",
      "===============================\n",
      "RECALL SCORE:0.6667\n",
      "ACCURACY SCORE:0.5769\n",
      "CONFUSION MATRIX:\n",
      "[[7 7]\n",
      " [4 8]]\n",
      "F1-score:  0.5926\n",
      "Test ROC AUC: 0.5714 \n",
      "\n",
      "CLASSIFICATION REPORT:\n",
      "                   0          1  accuracy  macro avg  weighted avg\n",
      "precision   0.636364   0.533333  0.576923   0.584848      0.588811\n",
      "recall      0.500000   0.666667  0.576923   0.583333      0.576923\n",
      "f1-score    0.560000   0.592593  0.576923   0.576296      0.575043\n",
      "support    14.000000  12.000000  0.576923  26.000000     26.000000\n"
     ]
    },
    {
     "data": {
      "image/png": "[encoded data removed]",
      "text/plain": [
       "<Figure size 432x288 with 1 Axes>"
      ]
     },
     "metadata": {
      "needs_background": "light"
     },
     "output_type": "display_data"
    }
   ],
   "source": [
    "evaluate(rfc, X_train_rfe, X_test_rfe, y_train, y_test)"
   ]
  },
  {
   "cell_type": "code",
   "execution_count": 57,
   "metadata": {},
   "outputs": [],
   "source": [
    "# drop the 'easy_ordering_app' feature from train and test set\n",
    "X_train_rfe = X_train.drop(columns=['AppEasyOrdering','GoodPrice'])\n",
    "X_test_rfe = X_test.drop(columns=['AppEasyOrdering','GoodPrice'])"
   ]
  },
  {
   "cell_type": "code",
   "execution_count": 58,
   "metadata": {},
   "outputs": [
    {
     "name": "stderr",
     "output_type": "stream",
     "text": [
      "COMET ERROR: Failed to extract parameters from estimator\n",
      "[Parallel(n_jobs=-1)]: Using backend LokyBackend with 4 concurrent workers.\n"
     ]
    },
    {
     "name": "stdout",
     "output_type": "stream",
     "text": [
      "Fitting 5 folds for each of 1 candidates, totalling 5 fits\n"
     ]
    },
    {
     "name": "stderr",
     "output_type": "stream",
     "text": [
      "[Parallel(n_jobs=-1)]: Done   5 out of   5 | elapsed:    0.5s finished\n",
      "COMET ERROR: Failed to extract parameters from estimator\n",
      "COMET ERROR: Failed to extract parameters from estimator\n"
     ]
    }
   ],
   "source": [
    "rfc.fit(X_train_rfe, y_train)\n",
    "\n",
    "rfc_predict = rfc.predict(X_test_rfe)\n"
   ]
  },
  {
   "cell_type": "code",
   "execution_count": 59,
   "metadata": {},
   "outputs": [
    {
     "data": {
      "text/html": [
       "<div>\n",
       "<style scoped>\n",
       "    .dataframe tbody tr th:only-of-type {\n",
       "        vertical-align: middle;\n",
       "    }\n",
       "\n",
       "    .dataframe tbody tr th {\n",
       "        vertical-align: top;\n",
       "    }\n",
       "\n",
       "    .dataframe thead th {\n",
       "        text-align: right;\n",
       "    }\n",
       "</style>\n",
       "<table border=\"1\" class=\"dataframe\">\n",
       "  <thead>\n",
       "    <tr style=\"text-align: right;\">\n",
       "      <th></th>\n",
       "      <th>DeliveredOnTime</th>\n",
       "      <th>ContentsCorrect</th>\n",
       "      <th>I ordered everything</th>\n",
       "      <th>CourierSatisfaction</th>\n",
       "      <th>AvgSurvey</th>\n",
       "    </tr>\n",
       "  </thead>\n",
       "  <tbody>\n",
       "    <tr>\n",
       "      <th>1</th>\n",
       "      <td>0</td>\n",
       "      <td>-1</td>\n",
       "      <td>0</td>\n",
       "      <td>1</td>\n",
       "      <td>0.333333</td>\n",
       "    </tr>\n",
       "    <tr>\n",
       "      <th>110</th>\n",
       "      <td>2</td>\n",
       "      <td>0</td>\n",
       "      <td>0</td>\n",
       "      <td>1</td>\n",
       "      <td>1.000000</td>\n",
       "    </tr>\n",
       "    <tr>\n",
       "      <th>58</th>\n",
       "      <td>2</td>\n",
       "      <td>0</td>\n",
       "      <td>2</td>\n",
       "      <td>1</td>\n",
       "      <td>1.500000</td>\n",
       "    </tr>\n",
       "    <tr>\n",
       "      <th>102</th>\n",
       "      <td>2</td>\n",
       "      <td>-1</td>\n",
       "      <td>0</td>\n",
       "      <td>0</td>\n",
       "      <td>0.500000</td>\n",
       "    </tr>\n",
       "    <tr>\n",
       "      <th>73</th>\n",
       "      <td>2</td>\n",
       "      <td>-1</td>\n",
       "      <td>0</td>\n",
       "      <td>-1</td>\n",
       "      <td>0.333333</td>\n",
       "    </tr>\n",
       "    <tr>\n",
       "      <th>...</th>\n",
       "      <td>...</td>\n",
       "      <td>...</td>\n",
       "      <td>...</td>\n",
       "      <td>...</td>\n",
       "      <td>...</td>\n",
       "    </tr>\n",
       "    <tr>\n",
       "      <th>23</th>\n",
       "      <td>2</td>\n",
       "      <td>-2</td>\n",
       "      <td>-1</td>\n",
       "      <td>-1</td>\n",
       "      <td>0.166667</td>\n",
       "    </tr>\n",
       "    <tr>\n",
       "      <th>13</th>\n",
       "      <td>1</td>\n",
       "      <td>-1</td>\n",
       "      <td>1</td>\n",
       "      <td>1</td>\n",
       "      <td>0.666667</td>\n",
       "    </tr>\n",
       "    <tr>\n",
       "      <th>11</th>\n",
       "      <td>1</td>\n",
       "      <td>1</td>\n",
       "      <td>0</td>\n",
       "      <td>1</td>\n",
       "      <td>0.833333</td>\n",
       "    </tr>\n",
       "    <tr>\n",
       "      <th>28</th>\n",
       "      <td>0</td>\n",
       "      <td>0</td>\n",
       "      <td>-2</td>\n",
       "      <td>0</td>\n",
       "      <td>-0.166667</td>\n",
       "    </tr>\n",
       "    <tr>\n",
       "      <th>117</th>\n",
       "      <td>2</td>\n",
       "      <td>-2</td>\n",
       "      <td>2</td>\n",
       "      <td>2</td>\n",
       "      <td>1.333333</td>\n",
       "    </tr>\n",
       "  </tbody>\n",
       "</table>\n",
       "<p>100 rows × 5 columns</p>\n",
       "</div>"
      ],
      "text/plain": [
       "     DeliveredOnTime  ContentsCorrect  I ordered everything  \\\n",
       "1                  0               -1                     0   \n",
       "110                2                0                     0   \n",
       "58                 2                0                     2   \n",
       "102                2               -1                     0   \n",
       "73                 2               -1                     0   \n",
       "..               ...              ...                   ...   \n",
       "23                 2               -2                    -1   \n",
       "13                 1               -1                     1   \n",
       "11                 1                1                     0   \n",
       "28                 0                0                    -2   \n",
       "117                2               -2                     2   \n",
       "\n",
       "     CourierSatisfaction  AvgSurvey  \n",
       "1                      1   0.333333  \n",
       "110                    1   1.000000  \n",
       "58                     1   1.500000  \n",
       "102                    0   0.500000  \n",
       "73                    -1   0.333333  \n",
       "..                   ...        ...  \n",
       "23                    -1   0.166667  \n",
       "13                     1   0.666667  \n",
       "11                     1   0.833333  \n",
       "28                     0  -0.166667  \n",
       "117                    2   1.333333  \n",
       "\n",
       "[100 rows x 5 columns]"
      ]
     },
     "execution_count": 59,
     "metadata": {},
     "output_type": "execute_result"
    }
   ],
   "source": [
    "X_train_rfe"
   ]
  },
  {
   "cell_type": "code",
   "execution_count": 60,
   "metadata": {},
   "outputs": [
    {
     "name": "stdout",
     "output_type": "stream",
     "text": [
      "TRAINIG RESULTS: \n",
      "===============================\n",
      "RECALL SCORE:0.9649\n",
      "ACCURACY SCORE:0.9400\n",
      "CONFUSION MATRIX:\n",
      "[[39  4]\n",
      " [ 2 55]]\n",
      "CLASSIFICATION REPORT:\n",
      "                   0          1  accuracy   macro avg  weighted avg\n",
      "precision   0.951220   0.932203      0.94    0.941711      0.940380\n",
      "recall      0.906977   0.964912      0.94    0.935945      0.940000\n",
      "f1-score    0.928571   0.948276      0.94    0.938424      0.939803\n",
      "support    43.000000  57.000000      0.94  100.000000    100.000000\n",
      "\n",
      "\n",
      "TESTING RESULTS: \n",
      "===============================\n",
      "RECALL SCORE:0.5833\n",
      "ACCURACY SCORE:0.5385\n",
      "CONFUSION MATRIX:\n",
      "[[7 7]\n",
      " [5 7]]\n",
      "F1-score:  0.5385\n",
      "Test ROC AUC: 0.5506 \n",
      "\n",
      "CLASSIFICATION REPORT:\n",
      "                   0          1  accuracy  macro avg  weighted avg\n",
      "precision   0.583333   0.500000  0.538462   0.541667      0.544872\n",
      "recall      0.500000   0.583333  0.538462   0.541667      0.538462\n",
      "f1-score    0.538462   0.538462  0.538462   0.538462      0.538462\n",
      "support    14.000000  12.000000  0.538462  26.000000     26.000000\n"
     ]
    },
    {
     "data": {
      "image/png": "[encoded data removed]",
      "text/plain": [
       "<Figure size 432x288 with 1 Axes>"
      ]
     },
     "metadata": {
      "needs_background": "light"
     },
     "output_type": "display_data"
    }
   ],
   "source": [
    "evaluate(rfc, X_train_rfe, X_test_rfe, y_train, y_test)"
   ]
  },
  {
   "cell_type": "code",
   "execution_count": 61,
   "metadata": {},
   "outputs": [
    {
     "data": {
      "text/html": [
       "<div>\n",
       "<style scoped>\n",
       "    .dataframe tbody tr th:only-of-type {\n",
       "        vertical-align: middle;\n",
       "    }\n",
       "\n",
       "    .dataframe tbody tr th {\n",
       "        vertical-align: top;\n",
       "    }\n",
       "\n",
       "    .dataframe thead th {\n",
       "        text-align: right;\n",
       "    }\n",
       "</style>\n",
       "<table border=\"1\" class=\"dataframe\">\n",
       "  <thead>\n",
       "    <tr style=\"text-align: right;\">\n",
       "      <th></th>\n",
       "      <th>DeliveredOnTime</th>\n",
       "      <th>ContentsCorrect</th>\n",
       "      <th>I ordered everything</th>\n",
       "      <th>CourierSatisfaction</th>\n",
       "      <th>AvgSurvey</th>\n",
       "    </tr>\n",
       "  </thead>\n",
       "  <tbody>\n",
       "    <tr>\n",
       "      <th>1</th>\n",
       "      <td>0</td>\n",
       "      <td>-1</td>\n",
       "      <td>0</td>\n",
       "      <td>1</td>\n",
       "      <td>0.333333</td>\n",
       "    </tr>\n",
       "    <tr>\n",
       "      <th>110</th>\n",
       "      <td>2</td>\n",
       "      <td>0</td>\n",
       "      <td>0</td>\n",
       "      <td>1</td>\n",
       "      <td>1.000000</td>\n",
       "    </tr>\n",
       "    <tr>\n",
       "      <th>58</th>\n",
       "      <td>2</td>\n",
       "      <td>0</td>\n",
       "      <td>2</td>\n",
       "      <td>1</td>\n",
       "      <td>1.500000</td>\n",
       "    </tr>\n",
       "    <tr>\n",
       "      <th>102</th>\n",
       "      <td>2</td>\n",
       "      <td>-1</td>\n",
       "      <td>0</td>\n",
       "      <td>0</td>\n",
       "      <td>0.500000</td>\n",
       "    </tr>\n",
       "    <tr>\n",
       "      <th>73</th>\n",
       "      <td>2</td>\n",
       "      <td>-1</td>\n",
       "      <td>0</td>\n",
       "      <td>-1</td>\n",
       "      <td>0.333333</td>\n",
       "    </tr>\n",
       "    <tr>\n",
       "      <th>...</th>\n",
       "      <td>...</td>\n",
       "      <td>...</td>\n",
       "      <td>...</td>\n",
       "      <td>...</td>\n",
       "      <td>...</td>\n",
       "    </tr>\n",
       "    <tr>\n",
       "      <th>23</th>\n",
       "      <td>2</td>\n",
       "      <td>-2</td>\n",
       "      <td>-1</td>\n",
       "      <td>-1</td>\n",
       "      <td>0.166667</td>\n",
       "    </tr>\n",
       "    <tr>\n",
       "      <th>13</th>\n",
       "      <td>1</td>\n",
       "      <td>-1</td>\n",
       "      <td>1</td>\n",
       "      <td>1</td>\n",
       "      <td>0.666667</td>\n",
       "    </tr>\n",
       "    <tr>\n",
       "      <th>11</th>\n",
       "      <td>1</td>\n",
       "      <td>1</td>\n",
       "      <td>0</td>\n",
       "      <td>1</td>\n",
       "      <td>0.833333</td>\n",
       "    </tr>\n",
       "    <tr>\n",
       "      <th>28</th>\n",
       "      <td>0</td>\n",
       "      <td>0</td>\n",
       "      <td>-2</td>\n",
       "      <td>0</td>\n",
       "      <td>-0.166667</td>\n",
       "    </tr>\n",
       "    <tr>\n",
       "      <th>117</th>\n",
       "      <td>2</td>\n",
       "      <td>-2</td>\n",
       "      <td>2</td>\n",
       "      <td>2</td>\n",
       "      <td>1.333333</td>\n",
       "    </tr>\n",
       "  </tbody>\n",
       "</table>\n",
       "<p>100 rows × 5 columns</p>\n",
       "</div>"
      ],
      "text/plain": [
       "     DeliveredOnTime  ContentsCorrect  I ordered everything  \\\n",
       "1                  0               -1                     0   \n",
       "110                2                0                     0   \n",
       "58                 2                0                     2   \n",
       "102                2               -1                     0   \n",
       "73                 2               -1                     0   \n",
       "..               ...              ...                   ...   \n",
       "23                 2               -2                    -1   \n",
       "13                 1               -1                     1   \n",
       "11                 1                1                     0   \n",
       "28                 0                0                    -2   \n",
       "117                2               -2                     2   \n",
       "\n",
       "     CourierSatisfaction  AvgSurvey  \n",
       "1                      1   0.333333  \n",
       "110                    1   1.000000  \n",
       "58                     1   1.500000  \n",
       "102                    0   0.500000  \n",
       "73                    -1   0.333333  \n",
       "..                   ...        ...  \n",
       "23                    -1   0.166667  \n",
       "13                     1   0.666667  \n",
       "11                     1   0.833333  \n",
       "28                     0  -0.166667  \n",
       "117                    2   1.333333  \n",
       "\n",
       "[100 rows x 5 columns]"
      ]
     },
     "execution_count": 61,
     "metadata": {},
     "output_type": "execute_result"
    }
   ],
   "source": [
    "X_train_rfe"
   ]
  },
  {
   "cell_type": "markdown",
   "metadata": {},
   "source": [
    "## Restore the full set of features plus Avg, before MODEL TUNING"
   ]
  },
  {
   "cell_type": "code",
   "execution_count": 62,
   "metadata": {},
   "outputs": [
    {
     "name": "stdout",
     "output_type": "stream",
     "text": [
      "X Training set sample size: 100\n",
      "X Testing set sample size: 26\n",
      "y Training set sample size: 100\n",
      "y Testing set sample size: 26\n"
     ]
    }
   ],
   "source": [
    "# split the data into training and test sets\n",
    "X_train, X_test, y_train, y_test = train_test_split(X, y, random_state=seed_value, test_size=0.2)\n",
    "\n",
    "# Show the results of the split\n",
    "print(\"X Training set sample size:\", (X_train.shape[0]))\n",
    "print(\"X Testing set sample size:\", (X_test.shape[0]))\n",
    "print(\"y Training set sample size:\", (y_train.shape[0]))\n",
    "print(\"y Testing set sample size:\", (y_test.shape[0]))"
   ]
  },
  {
   "cell_type": "code",
   "execution_count": 63,
   "metadata": {},
   "outputs": [
    {
     "name": "stderr",
     "output_type": "stream",
     "text": [
      "COMET ERROR: Failed to extract parameters from estimator\n"
     ]
    },
    {
     "name": "stdout",
     "output_type": "stream",
     "text": [
      "Fitting 5 folds for each of 1 candidates, totalling 5 fits\n"
     ]
    },
    {
     "name": "stderr",
     "output_type": "stream",
     "text": [
      "[Parallel(n_jobs=-1)]: Using backend LokyBackend with 4 concurrent workers.\n",
      "[Parallel(n_jobs=-1)]: Done   5 out of   5 | elapsed:    0.6s finished\n",
      "COMET ERROR: Failed to extract parameters from estimator\n",
      "COMET ERROR: Failed to extract parameters from estimator\n"
     ]
    },
    {
     "name": "stdout",
     "output_type": "stream",
     "text": [
      "Tuned Logistic Regression Parameter: {'rfc__class_weight': None, 'rfc__criterion': 'gini', 'rfc__max_depth': None}\n",
      "Tuned Logistic Regression Accuracy: 0.6000000000000001\n",
      "CPU times: user 268 ms, sys: 17.3 ms, total: 285 ms\n",
      "Wall time: 810 ms\n"
     ]
    },
    {
     "data": {
      "text/plain": [
       "GridSearchCV(cv=5, error_score=nan,\n",
       "             estimator=Pipeline(memory=None,\n",
       "                                steps=[('scaler',\n",
       "                                        StandardScaler(copy=True,\n",
       "                                                       with_mean=True,\n",
       "                                                       with_std=True)),\n",
       "                                       ('rfc',\n",
       "                                        RandomForestClassifier(bootstrap=True,\n",
       "                                                               ccp_alpha=0.0,\n",
       "                                                               class_weight=None,\n",
       "                                                               criterion='gini',\n",
       "                                                               max_depth=None,\n",
       "                                                               max_features='auto',\n",
       "                                                               max_leaf_nodes=None,\n",
       "                                                               max_samples=None,\n",
       "                                                               min_impurity_decrease=0.0,\n",
       "                                                               min_impurity_split=N...\n",
       "                                                               min_samples_split=2,\n",
       "                                                               min_weight_fraction_leaf=0.0,\n",
       "                                                               n_estimators=100,\n",
       "                                                               n_jobs=None,\n",
       "                                                               oob_score=False,\n",
       "                                                               random_state=None,\n",
       "                                                               verbose=0,\n",
       "                                                               warm_start=False))],\n",
       "                                verbose=False),\n",
       "             iid='deprecated', n_jobs=-1,\n",
       "             param_grid={'rfc__class_weight': [None],\n",
       "                         'rfc__criterion': ['gini'], 'rfc__max_depth': [None]},\n",
       "             pre_dispatch='2*n_jobs', refit=True, return_train_score=False,\n",
       "             scoring=None, verbose=True)"
      ]
     },
     "execution_count": 63,
     "metadata": {},
     "output_type": "execute_result"
    }
   ],
   "source": [
    "%%time\n",
    "# using STANDARD SCALER\n",
    "# Setup the pipeline\n",
    "steps = [('scaler', StandardScaler()),\n",
    "         ('rfc', RandomForestClassifier(n_estimators=100))\n",
    "         ]\n",
    "\n",
    "#steps = [('scaler', StandardScaler()),\n",
    "#         ('rfc', RandomForestClassifier(n_estimators=10))\n",
    "#         ]\n",
    "\n",
    "pipeline = Pipeline(steps)\n",
    "\n",
    "# Create the hyperparameter grid\n",
    "#c_space = np.logspace(-5, 8, 15)\n",
    "param_grid = {'rfc__max_depth': [None],\n",
    "                'rfc__class_weight': [None],\n",
    "                 'rfc__criterion' : ['gini']}\n",
    "\n",
    "\n",
    "# Instantiate the GridSearchCV object: logreg_cv\n",
    "rfc = GridSearchCV(pipeline, param_grid, cv=5, verbose=True, n_jobs=-1)\n",
    "\n",
    "# Fit it to the training data\n",
    "rfc.fit(X_train, y_train)\n",
    "\n",
    "rfc_predict = rfc.predict(X_test)\n",
    "\n",
    "# Print the optimal parameters and best score\n",
    "print(\"Tuned Logistic Regression Parameter: {}\".format(rfc.best_params_))\n",
    "print(\"Tuned Logistic Regression Accuracy: {}\".format(rfc.best_score_))\n",
    "\n",
    "\n",
    "# Compute and print metrics\n",
    "#print (confusion_matrix(y_test , rfc_predict))\n",
    "#print (\"Accuracy score: \", accuracy_score(y_test , rfc_predict))\n",
    "#print(\"F1 score: \", f1_score(y_test , rfc_predict))\n",
    "#print(\"Precision score: \" , precision_score(y_test , rfc_predict))\n",
    "#print(\"Recall score: \" , recall_score(y_test , rfc_predict))\n",
    "#print (classification_report(y_test , rfc_predict))\n",
    "rfc"
   ]
  },
  {
   "cell_type": "code",
   "execution_count": 64,
   "metadata": {},
   "outputs": [
    {
     "name": "stdout",
     "output_type": "stream",
     "text": [
      "TRAINIG RESULTS: \n",
      "===============================\n",
      "RECALL SCORE:0.9649\n",
      "ACCURACY SCORE:0.9400\n",
      "CONFUSION MATRIX:\n",
      "[[39  4]\n",
      " [ 2 55]]\n",
      "CLASSIFICATION REPORT:\n",
      "                   0          1  accuracy   macro avg  weighted avg\n",
      "precision   0.951220   0.932203      0.94    0.941711      0.940380\n",
      "recall      0.906977   0.964912      0.94    0.935945      0.940000\n",
      "f1-score    0.928571   0.948276      0.94    0.938424      0.939803\n",
      "support    43.000000  57.000000      0.94  100.000000    100.000000\n",
      "\n",
      "\n",
      "TESTING RESULTS: \n",
      "===============================\n",
      "RECALL SCORE:0.6667\n",
      "ACCURACY SCORE:0.5000\n",
      "CONFUSION MATRIX:\n",
      "[[5 9]\n",
      " [4 8]]\n",
      "F1-score:  0.5517\n",
      "Test ROC AUC: 0.5774 \n",
      "\n",
      "CLASSIFICATION REPORT:\n",
      "                   0          1  accuracy  macro avg  weighted avg\n",
      "precision   0.555556   0.470588       0.5   0.513072      0.516340\n",
      "recall      0.357143   0.666667       0.5   0.511905      0.500000\n",
      "f1-score    0.434783   0.551724       0.5   0.493253      0.488756\n",
      "support    14.000000  12.000000       0.5  26.000000     26.000000\n"
     ]
    },
    {
     "data": {
      "image/png": "[encoded data removed]",
      "text/plain": [
       "<Figure size 432x288 with 1 Axes>"
      ]
     },
     "metadata": {
      "needs_background": "light"
     },
     "output_type": "display_data"
    }
   ],
   "source": [
    "evaluate(rfc, X_train, X_test, y_train, y_test)"
   ]
  },
  {
   "cell_type": "markdown",
   "metadata": {},
   "source": [
    "## Use GridSearchCV to evaluate different parameter values. Using the selected parameters has a positive impact on RECALL for the TEST SET, which looks promising despite some variability in training set. This type of result indicates an improvement in model fit. To recap, the final model includes the Average as an additonal feature and does not remove any orginal features. The survey results are shifted to be centered around 0, so scores includes negative numbers. Standard scaler is used in combination with Gridsearch to improve model performance."
   ]
  },
  {
   "cell_type": "code",
   "execution_count": 65,
   "metadata": {},
   "outputs": [
    {
     "name": "stderr",
     "output_type": "stream",
     "text": [
      "COMET ERROR: Failed to extract parameters from estimator\n",
      "[Parallel(n_jobs=-1)]: Using backend LokyBackend with 4 concurrent workers.\n"
     ]
    },
    {
     "name": "stdout",
     "output_type": "stream",
     "text": [
      "Fitting 5 folds for each of 24 candidates, totalling 120 fits\n"
     ]
    },
    {
     "name": "stderr",
     "output_type": "stream",
     "text": [
      "[Parallel(n_jobs=-1)]: Done  42 tasks      | elapsed:    4.8s\n",
      "[Parallel(n_jobs=-1)]: Done 120 out of 120 | elapsed:   13.3s finished\n",
      "COMET ERROR: Failed to extract parameters from estimator\n",
      "COMET ERROR: Failed to extract parameters from estimator\n"
     ]
    },
    {
     "name": "stdout",
     "output_type": "stream",
     "text": [
      "Tuned Logistic Regression Parameter: {'rfc__class_weight': 'balanced', 'rfc__criterion': 'entropy', 'rfc__max_depth': None}\n",
      "Tuned Logistic Regression Accuracy: 0.65\n",
      "CPU times: user 1.28 s, sys: 63.2 ms, total: 1.34 s\n",
      "Wall time: 13.5 s\n"
     ]
    },
    {
     "data": {
      "text/plain": [
       "GridSearchCV(cv=5, error_score=nan,\n",
       "             estimator=Pipeline(memory=None,\n",
       "                                steps=[('scaler',\n",
       "                                        StandardScaler(copy=True,\n",
       "                                                       with_mean=True,\n",
       "                                                       with_std=True)),\n",
       "                                       ('rfc',\n",
       "                                        RandomForestClassifier(bootstrap=True,\n",
       "                                                               ccp_alpha=0.0,\n",
       "                                                               class_weight=None,\n",
       "                                                               criterion='gini',\n",
       "                                                               max_depth=None,\n",
       "                                                               max_features='auto',\n",
       "                                                               max_leaf_nodes=None,\n",
       "                                                               max_samples=None,\n",
       "                                                               min_impurity_decrease=0.0,\n",
       "                                                               min_impurity_split=N...\n",
       "                                                               min_weight_fraction_leaf=0.0,\n",
       "                                                               n_estimators=100,\n",
       "                                                               n_jobs=None,\n",
       "                                                               oob_score=False,\n",
       "                                                               random_state=None,\n",
       "                                                               verbose=0,\n",
       "                                                               warm_start=False))],\n",
       "                                verbose=False),\n",
       "             iid='deprecated', n_jobs=-1,\n",
       "             param_grid={'rfc__class_weight': [None, 'balanced'],\n",
       "                         'rfc__criterion': ['gini', 'entropy'],\n",
       "                         'rfc__max_depth': [1, 10, 20, 30, 50, None]},\n",
       "             pre_dispatch='2*n_jobs', refit=True, return_train_score=False,\n",
       "             scoring=None, verbose=True)"
      ]
     },
     "execution_count": 65,
     "metadata": {},
     "output_type": "execute_result"
    }
   ],
   "source": [
    "%%time\n",
    "# using STANDARD SCALER\n",
    "# Setup the pipeline\n",
    "steps = [('scaler', StandardScaler()),\n",
    "         ('rfc', RandomForestClassifier(n_estimators=100))\n",
    "         ]\n",
    "\n",
    "#steps = [('scaler', StandardScaler()),\n",
    "#         ('rfc', RandomForestClassifier(n_estimators=10))\n",
    "#         ]\n",
    "\n",
    "pipeline = Pipeline(steps)\n",
    "\n",
    "# Create the hyperparameter grid\n",
    "#c_space = np.logspace(-5, 8, 15)\n",
    "param_grid = {'rfc__max_depth': [1, 10, 20, 30, 50, None],\n",
    "                'rfc__class_weight': [None, 'balanced'],\n",
    "                 'rfc__criterion' : ['gini', 'entropy']}\n",
    "\n",
    "\n",
    "\n",
    "# Instantiate the GridSearchCV object: logreg_cv\n",
    "rfc = GridSearchCV(pipeline, param_grid, cv=5, verbose=True, n_jobs=-1)\n",
    "\n",
    "# Fit it to the training data\n",
    "rfc.fit(X_train, y_train)\n",
    "\n",
    "rfc_predict = rfc.predict(X_test)\n",
    "\n",
    "# Print the optimal parameters and best score\n",
    "print(\"Tuned Logistic Regression Parameter: {}\".format(rfc.best_params_))\n",
    "print(\"Tuned Logistic Regression Accuracy: {}\".format(rfc.best_score_))\n",
    "\n",
    "\n",
    "# Compute and print metrics\n",
    "#print (confusion_matrix(y_test , rfc_predict))\n",
    "#print (\"Accuracy score: \", accuracy_score(y_test , rfc_predict))\n",
    "#print(\"F1 score: \", f1_score(y_test , rfc_predict))\n",
    "#print(\"Precision score: \" , precision_score(y_test , rfc_predict))\n",
    "#print(\"Recall score: \" , recall_score(y_test , rfc_predict))\n",
    "#print (classification_report(y_test , rfc_predict))\n",
    "rfc"
   ]
  },
  {
   "cell_type": "code",
   "execution_count": 66,
   "metadata": {},
   "outputs": [
    {
     "name": "stdout",
     "output_type": "stream",
     "text": [
      "TRAINIG RESULTS: \n",
      "===============================\n",
      "RECALL SCORE:0.9474\n",
      "ACCURACY SCORE:0.9400\n",
      "CONFUSION MATRIX:\n",
      "[[40  3]\n",
      " [ 3 54]]\n",
      "CLASSIFICATION REPORT:\n",
      "                   0          1  accuracy  macro avg  weighted avg\n",
      "precision   0.930233   0.947368      0.94     0.9388          0.94\n",
      "recall      0.930233   0.947368      0.94     0.9388          0.94\n",
      "f1-score    0.930233   0.947368      0.94     0.9388          0.94\n",
      "support    43.000000  57.000000      0.94   100.0000        100.00\n",
      "\n",
      "\n",
      "TESTING RESULTS: \n",
      "===============================\n",
      "RECALL SCORE:0.6667\n",
      "ACCURACY SCORE:0.5769\n",
      "CONFUSION MATRIX:\n",
      "[[7 7]\n",
      " [4 8]]\n",
      "F1-score:  0.5926\n",
      "Test ROC AUC: 0.5595 \n",
      "\n",
      "CLASSIFICATION REPORT:\n",
      "                   0          1  accuracy  macro avg  weighted avg\n",
      "precision   0.636364   0.533333  0.576923   0.584848      0.588811\n",
      "recall      0.500000   0.666667  0.576923   0.583333      0.576923\n",
      "f1-score    0.560000   0.592593  0.576923   0.576296      0.575043\n",
      "support    14.000000  12.000000  0.576923  26.000000     26.000000\n"
     ]
    },
    {
     "data": {
      "image/png": "[encoded data removed]",
      "text/plain": [
       "<Figure size 432x288 with 1 Axes>"
      ]
     },
     "metadata": {
      "needs_background": "light"
     },
     "output_type": "display_data"
    }
   ],
   "source": [
    "evaluate(rfc, X_train, X_test, y_train, y_test)"
   ]
  },
  {
   "cell_type": "markdown",
   "metadata": {},
   "source": [
    "## End the Comet ML experiment"
   ]
  },
  {
   "cell_type": "code",
   "execution_count": 67,
   "metadata": {},
   "outputs": [
    {
     "name": "stderr",
     "output_type": "stream",
     "text": [
      "COMET INFO: ---------------------------\n",
      "COMET INFO: Comet.ml Experiment Summary\n",
      "COMET INFO: ---------------------------\n",
      "COMET INFO:   Data:\n",
      "COMET INFO:     display_summary_level : 1\n",
      "COMET INFO:     url                   : https://www.comet.ml/cruzer42/happycust/89abfd5977ea4c55807d7bae29c21bc7\n",
      "COMET INFO:   Parameters:\n",
      "COMET INFO:     bootstrap                     : True\n",
      "COMET INFO:     ccp_alpha                     : 0.0\n",
      "COMET INFO:     class_weight                  : balanced\n",
      "COMET INFO:     copy                          : True\n",
      "COMET INFO:     criterion                     : entropy\n",
      "COMET INFO:     cv                            : 5\n",
      "COMET INFO:     error_score                   : nan\n",
      "COMET INFO:     estimator                     : Pipeline(memory=None,\n",
      "         steps=[('scaler',\n",
      "                 StandardScaler(copy=True, with_mean=True, with_std=True)),\n",
      "                ('rfc',\n",
      "                 RandomForestClassifier(bootstrap=True, ccp_alpha=0.0,\n",
      "                                        class_weight=None, criterion='gini',\n",
      "                                        max_depth=None, max_features='auto',\n",
      "                                        max_leaf_nodes=None, max_samples=None,\n",
      "                                        min_impurity_decrease=0.0,\n",
      "                                        min_impurity_split=None,\n",
      "                                        min_samples_leaf=1, min_samples_split=2,\n",
      "                                        min_weight_fraction_leaf=0.0,\n",
      "                                        n_estimators=100, n_jobs=None,\n",
      "                                        oob_score=False, random_state=None,\n",
      "                                        verbose=0, warm_start=False))],\n",
      "         verbose=False)\n",
      "COMET INFO:     estimator__memory             : 1\n",
      "COMET INFO:     max_depth                     : 1\n",
      "COMET INFO:     max_features                  : auto\n",
      "COMET INFO:     max_leaf_nodes                : 1\n",
      "COMET INFO:     max_samples                   : 1\n",
      "COMET INFO:     memory                        : 1\n",
      "COMET INFO:     min_impurity_decrease         : 0.0\n",
      "COMET INFO:     min_impurity_split            : 1\n",
      "COMET INFO:     min_samples_leaf              : 1\n",
      "COMET INFO:     min_samples_split             : 2\n",
      "COMET INFO:     min_weight_fraction_leaf      : 0.0\n",
      "COMET INFO:     n_estimators                  : 100\n",
      "COMET INFO:     n_jobs                        : 1\n",
      "COMET INFO:     oob_score                     : False\n",
      "COMET INFO:     random_state                  : 1\n",
      "COMET INFO:     rfc                           : RandomForestClassifier(bootstrap=True, ccp_alpha=0.0, class_weight='balanced',\n",
      "                       criterion='entropy', max_depth=None, max_features='auto',\n",
      "                       max_leaf_nodes=None, max_samples=None,\n",
      "                       min_impurity_decrease=0.0, min_impurity_split=None,\n",
      "                       min_samples_leaf=1, min_samples_split=2,\n",
      "                       min_weight_fraction_leaf=0.0, n_estimators=100,\n",
      "                       n_jobs=None, oob_score=False, random_state=None,\n",
      "                       verbose=0, warm_start=False)\n",
      "COMET INFO:     rfc__bootstrap                : True\n",
      "COMET INFO:     rfc__ccp_alpha                : 0.0\n",
      "COMET INFO:     rfc__class_weight             : balanced\n",
      "COMET INFO:     rfc__criterion                : entropy\n",
      "COMET INFO:     rfc__max_depth                : 1\n",
      "COMET INFO:     rfc__max_features             : auto\n",
      "COMET INFO:     rfc__max_leaf_nodes           : 1\n",
      "COMET INFO:     rfc__max_samples              : 1\n",
      "COMET INFO:     rfc__min_impurity_decrease    : 0.0\n",
      "COMET INFO:     rfc__min_impurity_split       : 1\n",
      "COMET INFO:     rfc__min_samples_leaf         : 1\n",
      "COMET INFO:     rfc__min_samples_split        : 2\n",
      "COMET INFO:     rfc__min_weight_fraction_leaf : 0.0\n",
      "COMET INFO:     rfc__n_estimators             : 100\n",
      "COMET INFO:     rfc__n_jobs                   : 1\n",
      "COMET INFO:     rfc__oob_score                : False\n",
      "COMET INFO:     rfc__random_state             : 1\n",
      "COMET INFO:     rfc__verbose                  : 0\n",
      "COMET INFO:     rfc__warm_start               : False\n",
      "COMET INFO:     rfc_bootstrap                 : True\n",
      "COMET INFO:     rfc_ccp_alpha                 : 0.0\n",
      "COMET INFO:     rfc_class_weight              : balanced\n",
      "COMET INFO:     rfc_criterion                 : entropy\n",
      "COMET INFO:     rfc_max_depth                 : 1\n",
      "COMET INFO:     rfc_max_features              : auto\n",
      "COMET INFO:     rfc_max_leaf_nodes            : 1\n",
      "COMET INFO:     rfc_max_samples               : 1\n",
      "COMET INFO:     rfc_min_impurity_decrease     : 0.0\n",
      "COMET INFO:     rfc_min_impurity_split        : 1\n",
      "COMET INFO:     rfc_min_samples_leaf          : 1\n",
      "COMET INFO:     rfc_min_samples_split         : 2\n",
      "COMET INFO:     rfc_min_weight_fraction_leaf  : 0.0\n",
      "COMET INFO:     rfc_n_estimators              : 100\n",
      "COMET INFO:     rfc_n_jobs                    : 1\n",
      "COMET INFO:     rfc_oob_score                 : False\n",
      "COMET INFO:     rfc_random_state              : 1\n",
      "COMET INFO:     rfc_verbose                   : 0\n",
      "COMET INFO:     rfc_warm_start                : False\n",
      "COMET INFO:     scaler                        : StandardScaler(copy=True, with_mean=True, with_std=True)\n",
      "COMET INFO:     scaler__copy                  : True\n",
      "COMET INFO:     scaler__with_mean             : True\n",
      "COMET INFO:     scaler__with_std              : True\n",
      "COMET INFO:     scaler_copy                   : True\n",
      "COMET INFO:     scaler_with_mean              : True\n",
      "COMET INFO:     scaler_with_std               : True\n",
      "COMET INFO:     steps                         : [('scaler', StandardScaler(copy=True, with_mean=True, with_std=True)), ('rfc', RandomForestClassifier(bootstrap=True, ccp_alpha=0.0, class_weight='balanced',\n",
      "                       criterion='entropy', max_depth=None, max_features='auto',\n",
      "                       max_leaf_nodes=None, max_samples=None,\n",
      "                       min_impurity_decrease=0.0, min_impurity_split=None,\n",
      "                       min_samples_leaf=1, min_samples_split=2,\n",
      "                       min_weight_fraction_leaf=0.0, n_estimators=100,\n",
      "                       n_jobs=None, oob_score=False, random_state=None,\n",
      "                       verbose=0, warm_start=False))]\n",
      "COMET INFO:     verbose                       : 0\n",
      "COMET INFO:     warm_start                    : False\n",
      "COMET INFO:     with_mean                     : True\n",
      "COMET INFO:     with_std                      : True\n",
      "COMET INFO:   Uploads:\n",
      "COMET INFO:     environment details : 1\n",
      "COMET INFO:     filename            : 1\n",
      "COMET INFO:     installed packages  : 1\n",
      "COMET INFO:     notebook            : 1\n",
      "COMET INFO:     source_code         : 1\n",
      "COMET INFO: ---------------------------\n",
      "COMET ERROR: Error sending a notification, make sure you have opted-in for notifications\n",
      "COMET INFO: Uploading metrics, params, and assets to Comet before program termination (may take several seconds)\n",
      "COMET INFO: The Python SDK has 3600 seconds to finish before aborting...\n"
     ]
    }
   ],
   "source": [
    "experiment.end()"
   ]
  },
  {
   "cell_type": "code",
   "execution_count": null,
   "metadata": {},
   "outputs": [],
   "source": []
  }
 ],
 "metadata": {
  "kernelspec": {
   "display_name": "Python 3 (ipykernel)",
   "language": "python",
   "name": "python3"
  },
  "language_info": {
   "codemirror_mode": {
    "name": "ipython",
    "version": 3
   },
   "file_extension": ".py",
   "mimetype": "text/x-python",
   "name": "python",
   "nbconvert_exporter": "python",
   "pygments_lexer": "ipython3",
   "version": "3.7.10"
  }
 },
 "nbformat": 4,
 "nbformat_minor": 4
}
